{
 "cells": [
  {
   "cell_type": "code",
   "execution_count": 4,
   "metadata": {},
   "outputs": [],
   "source": [
    "# Train and test 4 different classifiers\n",
    "import pandas as pd\n",
    "from sklearn.model_selection import train_test_split\n",
    "from sklearn.tree import DecisionTreeClassifier, export_text, export_graphviz\n",
    "from sklearn.neural_network import MLPClassifier\n",
    "from sklearn.model_selection import GridSearchCV\n",
    "from sklearn.metrics import accuracy_score\n",
    "from io import StringIO  \n",
    "from IPython.display import Image  \n",
    "import pydotplus\n",
    "\n",
    "# Helper function to visualize Decision Trees\n",
    "def plot_decision_tree(clf, feature_names, class_names, filename):\n",
    "    dot_data = StringIO()\n",
    "    export_graphviz(clf, out_file=dot_data, filled=True, rounded=True, special_characters=True, feature_names=feature_names, class_names=class_names)\n",
    "    graph = pydotplus.graph_from_dot_data(dot_data.getvalue())  \n",
    "    graph.write_gif(filename)\n",
    "    Image(graph.create_png())"
   ]
  },
  {
   "cell_type": "code",
   "execution_count": 7,
   "metadata": {},
   "outputs": [],
   "source": [
    "# Load Penguin dataset\n",
    "penguin_path = r'C:\\Users\\ibrah\\OneDrive\\Desktop\\COMP472-A1-datasets\\penguins.csv'\n",
    "penguin_data = pd.read_csv(penguin_path)\n",
    "\n",
    "# For Penguin dataset\n",
    "penguin_features = pd.get_dummies(penguin_data.drop('species', axis=1))  # One-hot encode categorical features\n",
    "penguin_target = penguin_data['species']\n",
    "\n",
    "penguin_X_train, penguin_X_test, penguin_y_train, penguin_y_test = train_test_split(\n",
    "    penguin_features, penguin_target, test_size=0.2, random_state=42\n",
    ")"
   ]
  },
  {
   "cell_type": "code",
   "execution_count": 8,
   "metadata": {},
   "outputs": [
    {
     "name": "stdout",
     "output_type": "stream",
     "text": [
      "Base-DT Accuracy: 1.0\n",
      "Base-DT Tree:\n",
      "|--- flipper_length_mm <= 206.50\n",
      "|   |--- culmen_length_mm <= 43.35\n",
      "|   |   |--- culmen_length_mm <= 42.35\n",
      "|   |   |   |--- culmen_depth_mm <= 16.70\n",
      "|   |   |   |   |--- culmen_length_mm <= 39.50\n",
      "|   |   |   |   |   |--- class: Adelie\n",
      "|   |   |   |   |--- culmen_length_mm >  39.50\n",
      "|   |   |   |   |   |--- class: Chinstrap\n",
      "|   |   |   |--- culmen_depth_mm >  16.70\n",
      "|   |   |   |   |--- class: Adelie\n",
      "|   |   |--- culmen_length_mm >  42.35\n",
      "|   |   |   |--- flipper_length_mm <= 189.50\n",
      "|   |   |   |   |--- class: Chinstrap\n",
      "|   |   |   |--- flipper_length_mm >  189.50\n",
      "|   |   |   |   |--- class: Adelie\n",
      "|   |--- culmen_length_mm >  43.35\n",
      "|   |   |--- island_Dream <= 0.50\n",
      "|   |   |   |--- sex_FEMALE <= 0.50\n",
      "|   |   |   |   |--- class: Adelie\n",
      "|   |   |   |--- sex_FEMALE >  0.50\n",
      "|   |   |   |   |--- class: Gentoo\n",
      "|   |   |--- island_Dream >  0.50\n",
      "|   |   |   |--- culmen_length_mm <= 44.65\n",
      "|   |   |   |   |--- culmen_depth_mm <= 18.90\n",
      "|   |   |   |   |   |--- class: Chinstrap\n",
      "|   |   |   |   |--- culmen_depth_mm >  18.90\n",
      "|   |   |   |   |   |--- class: Adelie\n",
      "|   |   |   |--- culmen_length_mm >  44.65\n",
      "|   |   |   |   |--- class: Chinstrap\n",
      "|--- flipper_length_mm >  206.50\n",
      "|   |--- culmen_depth_mm <= 17.65\n",
      "|   |   |--- class: Gentoo\n",
      "|   |--- culmen_depth_mm >  17.65\n",
      "|   |   |--- culmen_depth_mm <= 18.95\n",
      "|   |   |   |--- class: Adelie\n",
      "|   |   |--- culmen_depth_mm >  18.95\n",
      "|   |   |   |--- class: Chinstrap\n",
      "\n"
     ]
    }
   ],
   "source": [
    "# (a) Base-DT\n",
    "base_dt = DecisionTreeClassifier(random_state=42)\n",
    "base_dt.fit(penguin_X_train, penguin_y_train)\n",
    "base_dt_predictions = base_dt.predict(penguin_X_test)\n",
    "base_dt_accuracy = accuracy_score(penguin_y_test, base_dt_predictions)\n",
    "\n",
    "# Visualize the Base-DT (for simplicity, showing only text representation)\n",
    "print(\"Base-DT Accuracy:\", base_dt_accuracy)\n",
    "print(\"Base-DT Tree:\")\n",
    "print(export_text(base_dt, feature_names=penguin_features.columns))"
   ]
  },
  {
   "cell_type": "code",
   "execution_count": 9,
   "metadata": {},
   "outputs": [
    {
     "name": "stdout",
     "output_type": "stream",
     "text": [
      "\n",
      "Top-DT Accuracy: 1.0\n",
      "Top-DT Tree:\n",
      "|--- flipper_length_mm <= 206.50\n",
      "|   |--- culmen_length_mm <= 43.35\n",
      "|   |   |--- culmen_length_mm <= 42.35\n",
      "|   |   |   |--- culmen_depth_mm <= 16.70\n",
      "|   |   |   |   |--- culmen_length_mm <= 39.50\n",
      "|   |   |   |   |   |--- class: Adelie\n",
      "|   |   |   |   |--- culmen_length_mm >  39.50\n",
      "|   |   |   |   |   |--- class: Chinstrap\n",
      "|   |   |   |--- culmen_depth_mm >  16.70\n",
      "|   |   |   |   |--- class: Adelie\n",
      "|   |   |--- culmen_length_mm >  42.35\n",
      "|   |   |   |--- flipper_length_mm <= 189.50\n",
      "|   |   |   |   |--- class: Chinstrap\n",
      "|   |   |   |--- flipper_length_mm >  189.50\n",
      "|   |   |   |   |--- class: Adelie\n",
      "|   |--- culmen_length_mm >  43.35\n",
      "|   |   |--- island_Dream <= 0.50\n",
      "|   |   |   |--- sex_FEMALE <= 0.50\n",
      "|   |   |   |   |--- class: Adelie\n",
      "|   |   |   |--- sex_FEMALE >  0.50\n",
      "|   |   |   |   |--- class: Gentoo\n",
      "|   |   |--- island_Dream >  0.50\n",
      "|   |   |   |--- culmen_length_mm <= 44.65\n",
      "|   |   |   |   |--- culmen_depth_mm <= 18.90\n",
      "|   |   |   |   |   |--- class: Chinstrap\n",
      "|   |   |   |   |--- culmen_depth_mm >  18.90\n",
      "|   |   |   |   |   |--- class: Adelie\n",
      "|   |   |   |--- culmen_length_mm >  44.65\n",
      "|   |   |   |   |--- class: Chinstrap\n",
      "|--- flipper_length_mm >  206.50\n",
      "|   |--- culmen_depth_mm <= 17.65\n",
      "|   |   |--- class: Gentoo\n",
      "|   |--- culmen_depth_mm >  17.65\n",
      "|   |   |--- culmen_depth_mm <= 18.95\n",
      "|   |   |   |--- class: Adelie\n",
      "|   |   |--- culmen_depth_mm >  18.95\n",
      "|   |   |   |--- class: Chinstrap\n",
      "\n"
     ]
    }
   ],
   "source": [
    "# (b) Top-DT\n",
    "param_grid_dt = {\n",
    "    'criterion': ['gini', 'entropy'],\n",
    "    'max_depth': [None, 5, 10],\n",
    "    'min_samples_split': [2, 5, 10]\n",
    "}\n",
    "\n",
    "grid_search_dt = GridSearchCV(DecisionTreeClassifier(random_state=42), param_grid_dt, cv=5, scoring='accuracy')\n",
    "grid_search_dt.fit(penguin_X_train, penguin_y_train)\n",
    "top_dt = grid_search_dt.best_estimator_\n",
    "top_dt_predictions = top_dt.predict(penguin_X_test)\n",
    "top_dt_accuracy = accuracy_score(penguin_y_test, top_dt_predictions)\n",
    "\n",
    "# Visualize the Top-DT (for simplicity, showing only text representation)\n",
    "print(\"\\nTop-DT Accuracy:\", top_dt_accuracy)\n",
    "print(\"Top-DT Tree:\")\n",
    "print(export_text(top_dt, feature_names=penguin_features.columns))"
   ]
  },
  {
   "cell_type": "code",
   "execution_count": 10,
   "metadata": {},
   "outputs": [
    {
     "name": "stdout",
     "output_type": "stream",
     "text": [
      "\n",
      "Top-DT Accuracy: 1.0\n",
      "Top-DT Tree:\n",
      "|--- flipper_length_mm <= 206.50\n",
      "|   |--- culmen_length_mm <= 43.35\n",
      "|   |   |--- culmen_length_mm <= 42.35\n",
      "|   |   |   |--- culmen_depth_mm <= 16.70\n",
      "|   |   |   |   |--- culmen_length_mm <= 39.50\n",
      "|   |   |   |   |   |--- class: Adelie\n",
      "|   |   |   |   |--- culmen_length_mm >  39.50\n",
      "|   |   |   |   |   |--- class: Chinstrap\n",
      "|   |   |   |--- culmen_depth_mm >  16.70\n",
      "|   |   |   |   |--- class: Adelie\n",
      "|   |   |--- culmen_length_mm >  42.35\n",
      "|   |   |   |--- flipper_length_mm <= 189.50\n",
      "|   |   |   |   |--- class: Chinstrap\n",
      "|   |   |   |--- flipper_length_mm >  189.50\n",
      "|   |   |   |   |--- class: Adelie\n",
      "|   |--- culmen_length_mm >  43.35\n",
      "|   |   |--- island_Dream <= 0.50\n",
      "|   |   |   |--- sex_FEMALE <= 0.50\n",
      "|   |   |   |   |--- class: Adelie\n",
      "|   |   |   |--- sex_FEMALE >  0.50\n",
      "|   |   |   |   |--- class: Gentoo\n",
      "|   |   |--- island_Dream >  0.50\n",
      "|   |   |   |--- culmen_length_mm <= 44.65\n",
      "|   |   |   |   |--- culmen_depth_mm <= 18.90\n",
      "|   |   |   |   |   |--- class: Chinstrap\n",
      "|   |   |   |   |--- culmen_depth_mm >  18.90\n",
      "|   |   |   |   |   |--- class: Adelie\n",
      "|   |   |   |--- culmen_length_mm >  44.65\n",
      "|   |   |   |   |--- class: Chinstrap\n",
      "|--- flipper_length_mm >  206.50\n",
      "|   |--- culmen_depth_mm <= 17.65\n",
      "|   |   |--- class: Gentoo\n",
      "|   |--- culmen_depth_mm >  17.65\n",
      "|   |   |--- culmen_depth_mm <= 18.95\n",
      "|   |   |   |--- class: Adelie\n",
      "|   |   |--- culmen_depth_mm >  18.95\n",
      "|   |   |   |--- class: Chinstrap\n",
      "\n"
     ]
    }
   ],
   "source": [
    "# (b) Top-DT\n",
    "param_grid_dt = {\n",
    "    'criterion': ['gini', 'entropy'],\n",
    "    'max_depth': [None, 5, 10],\n",
    "    'min_samples_split': [2, 5, 10]\n",
    "}\n",
    "\n",
    "grid_search_dt = GridSearchCV(DecisionTreeClassifier(random_state=42), param_grid_dt, cv=5, scoring='accuracy')\n",
    "grid_search_dt.fit(penguin_X_train, penguin_y_train)\n",
    "top_dt = grid_search_dt.best_estimator_\n",
    "top_dt_predictions = top_dt.predict(penguin_X_test)\n",
    "top_dt_accuracy = accuracy_score(penguin_y_test, top_dt_predictions)\n",
    "\n",
    "# Visualize the Top-DT (for simplicity, showing only text representation)\n",
    "print(\"\\nTop-DT Accuracy:\", top_dt_accuracy)\n",
    "print(\"Top-DT Tree:\")\n",
    "print(export_text(top_dt, feature_names=penguin_features.columns))"
   ]
  },
  {
   "cell_type": "code",
   "execution_count": 11,
   "metadata": {},
   "outputs": [
    {
     "name": "stdout",
     "output_type": "stream",
     "text": [
      "\n",
      "Base-MLP Accuracy: 0.4626865671641791\n"
     ]
    }
   ],
   "source": [
    "# (c) Base-MLP\n",
    "base_mlp = MLPClassifier(hidden_layer_sizes=(100, 100), activation='logistic', solver='sgd', random_state=42)\n",
    "base_mlp.fit(penguin_X_train, penguin_y_train)\n",
    "base_mlp_predictions = base_mlp.predict(penguin_X_test)\n",
    "base_mlp_accuracy = accuracy_score(penguin_y_test, base_mlp_predictions)\n",
    "\n",
    "print(\"\\nBase-MLP Accuracy:\", base_mlp_accuracy)"
   ]
  },
  {
   "cell_type": "code",
   "execution_count": 12,
   "metadata": {},
   "outputs": [
    {
     "name": "stderr",
     "output_type": "stream",
     "text": [
      "c:\\Users\\ibrah\\AppData\\Local\\Programs\\Python\\Python311\\Lib\\site-packages\\sklearn\\neural_network\\_multilayer_perceptron.py:691: ConvergenceWarning: Stochastic Optimizer: Maximum iterations (200) reached and the optimization hasn't converged yet.\n",
      "  warnings.warn(\n"
     ]
    },
    {
     "name": "stdout",
     "output_type": "stream",
     "text": [
      "\n",
      "Top-MLP Accuracy: 0.6268656716417911\n"
     ]
    },
    {
     "name": "stderr",
     "output_type": "stream",
     "text": [
      "c:\\Users\\ibrah\\AppData\\Local\\Programs\\Python\\Python311\\Lib\\site-packages\\sklearn\\neural_network\\_multilayer_perceptron.py:691: ConvergenceWarning: Stochastic Optimizer: Maximum iterations (200) reached and the optimization hasn't converged yet.\n",
      "  warnings.warn(\n",
      "c:\\Users\\ibrah\\AppData\\Local\\Programs\\Python\\Python311\\Lib\\site-packages\\sklearn\\model_selection\\_validation.py:425: FitFailedWarning: \n",
      "20 fits failed out of a total of 60.\n",
      "The score on these train-test partitions for these parameters will be set to nan.\n",
      "If these failures are not expected, you can try to debug them by setting error_score='raise'.\n",
      "\n",
      "Below are more details about the failures:\n",
      "--------------------------------------------------------------------------------\n",
      "20 fits failed with the following error:\n",
      "Traceback (most recent call last):\n",
      "  File \"c:\\Users\\ibrah\\AppData\\Local\\Programs\\Python\\Python311\\Lib\\site-packages\\sklearn\\model_selection\\_validation.py\", line 729, in _fit_and_score\n",
      "    estimator.fit(X_train, y_train, **fit_params)\n",
      "  File \"c:\\Users\\ibrah\\AppData\\Local\\Programs\\Python\\Python311\\Lib\\site-packages\\sklearn\\base.py\", line 1145, in wrapper\n",
      "    estimator._validate_params()\n",
      "  File \"c:\\Users\\ibrah\\AppData\\Local\\Programs\\Python\\Python311\\Lib\\site-packages\\sklearn\\base.py\", line 638, in _validate_params\n",
      "    validate_parameter_constraints(\n",
      "  File \"c:\\Users\\ibrah\\AppData\\Local\\Programs\\Python\\Python311\\Lib\\site-packages\\sklearn\\utils\\_param_validation.py\", line 96, in validate_parameter_constraints\n",
      "    raise InvalidParameterError(\n",
      "sklearn.utils._param_validation.InvalidParameterError: The 'activation' parameter of MLPClassifier must be a str among {'logistic', 'tanh', 'relu', 'identity'}. Got 'sigmoid' instead.\n",
      "\n",
      "  warnings.warn(some_fits_failed_message, FitFailedWarning)\n",
      "c:\\Users\\ibrah\\AppData\\Local\\Programs\\Python\\Python311\\Lib\\site-packages\\sklearn\\model_selection\\_search.py:979: UserWarning: One or more of the test scores are non-finite: [       nan        nan        nan        nan 0.62368973 0.432355\n",
      " 0.432355   0.432355   0.39461915 0.40216632 0.33808526 0.432355  ]\n",
      "  warnings.warn(\n"
     ]
    }
   ],
   "source": [
    "# (d) Top-MLP\n",
    "param_grid_mlp = {\n",
    "    'activation': ['sigmoid', 'tanh', 'relu'],\n",
    "    'hidden_layer_sizes': [(30, 50), (10, 10, 10)],\n",
    "    'solver': ['adam', 'sgd']\n",
    "}\n",
    "\n",
    "grid_search_mlp = GridSearchCV(MLPClassifier(random_state=42), param_grid_mlp, cv=5, scoring='accuracy')\n",
    "grid_search_mlp.fit(penguin_X_train, penguin_y_train)\n",
    "top_mlp = grid_search_mlp.best_estimator_\n",
    "top_mlp_predictions = top_mlp.predict(penguin_X_test)\n",
    "top_mlp_accuracy = accuracy_score(penguin_y_test, top_mlp_predictions)\n",
    "\n",
    "print(\"\\nTop-MLP Accuracy:\", top_mlp_accuracy)"
   ]
  }
 ],
 "metadata": {
  "kernelspec": {
   "display_name": "Python 3",
   "language": "python",
   "name": "python3"
  },
  "language_info": {
   "codemirror_mode": {
    "name": "ipython",
    "version": 3
   },
   "file_extension": ".py",
   "mimetype": "text/x-python",
   "name": "python",
   "nbconvert_exporter": "python",
   "pygments_lexer": "ipython3",
   "version": "3.11.5"
  }
 },
 "nbformat": 4,
 "nbformat_minor": 2
}
