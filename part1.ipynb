{
 "cells": [
  {
   "cell_type": "code",
   "execution_count": 1,
   "metadata": {},
   "outputs": [],
   "source": [
    "# Import necessary libraries\n",
    "import pandas as pd\n",
    "from sklearn.preprocessing import OneHotEncoder"
   ]
  },
  {
   "cell_type": "code",
   "execution_count": 2,
   "metadata": {},
   "outputs": [],
   "source": [
    "# Load Penguin dataset\n",
    "penguin_path = r'C:\\Users\\ibrah\\OneDrive\\Desktop\\COMP472-A1-datasets\\penguins.csv'\n",
    "penguin_data = pd.read_csv(penguin_path)"
   ]
  },
  {
   "cell_type": "code",
   "execution_count": 3,
   "metadata": {},
   "outputs": [
    {
     "name": "stdout",
     "output_type": "stream",
     "text": [
      "Penguin Dataset:\n",
      "  species     island  culmen_length_mm  culmen_depth_mm  flipper_length_mm  \\\n",
      "0  Adelie  Torgersen              39.1             18.7                181   \n",
      "1  Adelie  Torgersen              39.5             17.4                186   \n",
      "2  Adelie  Torgersen              40.3             18.0                195   \n",
      "3  Adelie  Torgersen              36.7             19.3                193   \n",
      "4  Adelie  Torgersen              39.3             20.6                190   \n",
      "\n",
      "   body_mass_g     sex  \n",
      "0         3750    MALE  \n",
      "1         3800  FEMALE  \n",
      "2         3250  FEMALE  \n",
      "3         3450  FEMALE  \n",
      "4         3650    MALE  \n"
     ]
    }
   ],
   "source": [
    "# Display the first few rows of the dataset\n",
    "print(\"Penguin Dataset:\")\n",
    "print(penguin_data.head())"
   ]
  },
  {
   "cell_type": "code",
   "execution_count": 4,
   "metadata": {},
   "outputs": [],
   "source": [
    "# Method 1: Convert features into 1-hot vectors\n",
    "penguin_data_onehot = pd.get_dummies(penguin_data, columns=['island', 'sex'])"
   ]
  },
  {
   "cell_type": "code",
   "execution_count": 5,
   "metadata": {},
   "outputs": [
    {
     "name": "stdout",
     "output_type": "stream",
     "text": [
      "\n",
      "After 1-hot encoding:\n",
      "  species  culmen_length_mm  culmen_depth_mm  flipper_length_mm  body_mass_g  \\\n",
      "0  Adelie              39.1             18.7                181         3750   \n",
      "1  Adelie              39.5             17.4                186         3800   \n",
      "2  Adelie              40.3             18.0                195         3250   \n",
      "3  Adelie              36.7             19.3                193         3450   \n",
      "4  Adelie              39.3             20.6                190         3650   \n",
      "\n",
      "   island_Biscoe  island_Dream  island_Torgersen  sex_FEMALE  sex_MALE  \n",
      "0          False         False              True       False      True  \n",
      "1          False         False              True        True     False  \n",
      "2          False         False              True        True     False  \n",
      "3          False         False              True        True     False  \n",
      "4          False         False              True       False      True  \n"
     ]
    }
   ],
   "source": [
    "# Display the first few rows after converting to 1-hot vectors\n",
    "print(\"\\nAfter 1-hot encoding:\")\n",
    "print(penguin_data_onehot.head())"
   ]
  },
  {
   "cell_type": "code",
   "execution_count": 6,
   "metadata": {},
   "outputs": [],
   "source": [
    "# Method 2: Convert features into categories manually\n",
    "penguin_data['island'] = penguin_data['island'].astype('category')\n",
    "penguin_data['sex'] = penguin_data['sex'].astype('category')"
   ]
  },
  {
   "cell_type": "code",
   "execution_count": 7,
   "metadata": {},
   "outputs": [
    {
     "name": "stdout",
     "output_type": "stream",
     "text": [
      "\n",
      "After converting to categories:\n",
      "  species     island  culmen_length_mm  culmen_depth_mm  flipper_length_mm  \\\n",
      "0  Adelie  Torgersen              39.1             18.7                181   \n",
      "1  Adelie  Torgersen              39.5             17.4                186   \n",
      "2  Adelie  Torgersen              40.3             18.0                195   \n",
      "3  Adelie  Torgersen              36.7             19.3                193   \n",
      "4  Adelie  Torgersen              39.3             20.6                190   \n",
      "\n",
      "   body_mass_g     sex  \n",
      "0         3750    MALE  \n",
      "1         3800  FEMALE  \n",
      "2         3250  FEMALE  \n",
      "3         3450  FEMALE  \n",
      "4         3650    MALE  \n"
     ]
    }
   ],
   "source": [
    "# Display the first few rows after converting to categories\n",
    "print(\"\\nAfter converting to categories:\")\n",
    "print(penguin_data.head())"
   ]
  },
  {
   "cell_type": "code",
   "execution_count": 8,
   "metadata": {},
   "outputs": [],
   "source": [
    "# Repeat the process for the Abalone dataset\n",
    "abalone_path = r'C:\\Users\\ibrah\\OneDrive\\Desktop\\COMP472-A1-datasets\\abalone.csv'\n",
    "abalone_data = pd.read_csv(abalone_path)"
   ]
  },
  {
   "cell_type": "code",
   "execution_count": 9,
   "metadata": {},
   "outputs": [
    {
     "name": "stdout",
     "output_type": "stream",
     "text": [
      "\n",
      "Abalone Dataset:\n",
      "  Type  LongestShell  Diameter  Height  WholeWeight  ShuckedWeight  \\\n",
      "0    F         0.605     0.470   0.165       1.1775         0.6110   \n",
      "1    M         0.550     0.425   0.150       0.8315         0.4110   \n",
      "2    M         0.460     0.345   0.110       0.4595         0.2350   \n",
      "3    F         0.650     0.475   0.165       1.3875         0.5800   \n",
      "4    M         0.575     0.470   0.140       0.8375         0.3485   \n",
      "\n",
      "   VisceraWeight  ShellWeight  Rings  \n",
      "0         0.2275       0.2920      9  \n",
      "1         0.1765       0.2165     10  \n",
      "2         0.0885       0.1160      7  \n",
      "3         0.3485       0.3095      9  \n",
      "4         0.1735       0.2400     11  \n"
     ]
    }
   ],
   "source": [
    "# Display the first few rows of the Abalone dataset\n",
    "print(\"\\nAbalone Dataset:\")\n",
    "print(abalone_data.head())"
   ]
  },
  {
   "cell_type": "code",
   "execution_count": 12,
   "metadata": {},
   "outputs": [],
   "source": [
    "# Method 1: Convert features into 1-hot vectors\n",
    "abalone_data_onehot = pd.get_dummies(abalone_data, columns=['Type'])"
   ]
  },
  {
   "cell_type": "code",
   "execution_count": 13,
   "metadata": {},
   "outputs": [
    {
     "name": "stdout",
     "output_type": "stream",
     "text": [
      "\n",
      "After 1-hot encoding:\n",
      "   LongestShell  Diameter  Height  WholeWeight  ShuckedWeight  VisceraWeight  \\\n",
      "0         0.605     0.470   0.165       1.1775         0.6110         0.2275   \n",
      "1         0.550     0.425   0.150       0.8315         0.4110         0.1765   \n",
      "2         0.460     0.345   0.110       0.4595         0.2350         0.0885   \n",
      "3         0.650     0.475   0.165       1.3875         0.5800         0.3485   \n",
      "4         0.575     0.470   0.140       0.8375         0.3485         0.1735   \n",
      "\n",
      "   ShellWeight  Rings  Type_F  Type_I  Type_M  \n",
      "0       0.2920      9    True   False   False  \n",
      "1       0.2165     10   False   False    True  \n",
      "2       0.1160      7   False   False    True  \n",
      "3       0.3095      9    True   False   False  \n",
      "4       0.2400     11   False   False    True  \n"
     ]
    }
   ],
   "source": [
    "# Display the first few rows after converting to 1-hot vectors\n",
    "print(\"\\nAfter 1-hot encoding:\")\n",
    "print(abalone_data_onehot.head())"
   ]
  },
  {
   "cell_type": "code",
   "execution_count": 14,
   "metadata": {},
   "outputs": [],
   "source": [
    "# Method 2: Convert features into categories manually\n",
    "abalone_data['Type'] = abalone_data['Type'].astype('category')"
   ]
  },
  {
   "cell_type": "code",
   "execution_count": 15,
   "metadata": {},
   "outputs": [
    {
     "name": "stdout",
     "output_type": "stream",
     "text": [
      "\n",
      "After converting to categories:\n",
      "  Type  LongestShell  Diameter  Height  WholeWeight  ShuckedWeight  \\\n",
      "0    F         0.605     0.470   0.165       1.1775         0.6110   \n",
      "1    M         0.550     0.425   0.150       0.8315         0.4110   \n",
      "2    M         0.460     0.345   0.110       0.4595         0.2350   \n",
      "3    F         0.650     0.475   0.165       1.3875         0.5800   \n",
      "4    M         0.575     0.470   0.140       0.8375         0.3485   \n",
      "\n",
      "   VisceraWeight  ShellWeight  Rings  \n",
      "0         0.2275       0.2920      9  \n",
      "1         0.1765       0.2165     10  \n",
      "2         0.0885       0.1160      7  \n",
      "3         0.3485       0.3095      9  \n",
      "4         0.1735       0.2400     11  \n"
     ]
    }
   ],
   "source": [
    "# Display the first few rows after converting to categories\n",
    "print(\"\\nAfter converting to categories:\")\n",
    "print(abalone_data.head())"
   ]
  }
 ],
 "metadata": {
  "kernelspec": {
   "display_name": "Python 3",
   "language": "python",
   "name": "python3"
  },
  "language_info": {
   "codemirror_mode": {
    "name": "ipython",
    "version": 3
   },
   "file_extension": ".py",
   "mimetype": "text/x-python",
   "name": "python",
   "nbconvert_exporter": "python",
   "pygments_lexer": "ipython3",
   "version": "3.11.5"
  }
 },
 "nbformat": 4,
 "nbformat_minor": 2
}
