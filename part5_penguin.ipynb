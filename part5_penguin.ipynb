{
 "cells": [
  {
   "cell_type": "code",
   "execution_count": 1,
   "metadata": {},
   "outputs": [],
   "source": [
    "import pandas as pd\n",
    "from sklearn.model_selection import train_test_split\n",
    "from sklearn.tree import DecisionTreeClassifier\n",
    "from sklearn.metrics import confusion_matrix, precision_recall_fscore_support, accuracy_score\n",
    "from sklearn.preprocessing import OneHotEncoder\n",
    "from sklearn.metrics import f1_score\n",
    "from sklearn.model_selection import GridSearchCV\n",
    "from sklearn.neural_network import MLPClassifier\n",
    "from sklearn.preprocessing import StandardScaler\n",
    "from sklearn.tree import DecisionTreeClassifier\n",
    "from sklearn.metrics import classification_report, confusion_matrix, accuracy_score, f1_score"
   ]
  },
  {
   "cell_type": "code",
   "execution_count": 2,
   "metadata": {},
   "outputs": [],
   "source": [
    "# Cell 2: Load Penguin Dataset and Prepare Data\n",
    "penguin_path = r'C:\\Users\\ibrah\\OneDrive\\Desktop\\COMP472-A1-datasets\\penguins.csv'\n",
    "penguin_data = pd.read_csv(penguin_path)"
   ]
  },
  {
   "cell_type": "code",
   "execution_count": 3,
   "metadata": {},
   "outputs": [],
   "source": [
    "# Convert features into 1-hot vectors, so data can be used for training\n",
    "categorical_columns = ['island', 'sex']\n",
    "penguin_categorical = penguin_data[categorical_columns]\n",
    "\n",
    "# Initialize the OneHotEncoder\n",
    "encoder = OneHotEncoder()\n",
    "\n",
    "# Fit and transform the categorical columns\n",
    "one_hot_encoded = encoder.fit_transform(penguin_categorical).toarray()\n",
    "\n",
    "# Create a DataFrame with the one-hot encoded features\n",
    "one_hot_df = pd.DataFrame(one_hot_encoded, columns=encoder.get_feature_names_out(categorical_columns))\n",
    "\n",
    "# Concatenate the one-hot encoded DataFrame with the original DataFrame, dropping the original categorical columns\n",
    "penguin_data_encoded = pd.concat([penguin_data, one_hot_df], axis=1).drop(categorical_columns, axis=1)"
   ]
  },
  {
   "cell_type": "code",
   "execution_count": 4,
   "metadata": {},
   "outputs": [],
   "source": [
    "# Split the dataset using train_test_split\n",
    "penguin_features = penguin_data_encoded.drop('species', axis=1)\n",
    "penguin_target = penguin_data_encoded['species']\n",
    "\n",
    "penguin_X_train, penguin_X_test, penguin_y_train, penguin_y_test = train_test_split(\n",
    "    penguin_features, penguin_target, test_size=0.2, random_state=42\n",
    ")"
   ]
  },
  {
   "cell_type": "code",
   "execution_count": 5,
   "metadata": {},
   "outputs": [
    {
     "data": {
      "text/html": [
       "<style>#sk-container-id-1 {color: black;}#sk-container-id-1 pre{padding: 0;}#sk-container-id-1 div.sk-toggleable {background-color: white;}#sk-container-id-1 label.sk-toggleable__label {cursor: pointer;display: block;width: 100%;margin-bottom: 0;padding: 0.3em;box-sizing: border-box;text-align: center;}#sk-container-id-1 label.sk-toggleable__label-arrow:before {content: \"▸\";float: left;margin-right: 0.25em;color: #696969;}#sk-container-id-1 label.sk-toggleable__label-arrow:hover:before {color: black;}#sk-container-id-1 div.sk-estimator:hover label.sk-toggleable__label-arrow:before {color: black;}#sk-container-id-1 div.sk-toggleable__content {max-height: 0;max-width: 0;overflow: hidden;text-align: left;background-color: #f0f8ff;}#sk-container-id-1 div.sk-toggleable__content pre {margin: 0.2em;color: black;border-radius: 0.25em;background-color: #f0f8ff;}#sk-container-id-1 input.sk-toggleable__control:checked~div.sk-toggleable__content {max-height: 200px;max-width: 100%;overflow: auto;}#sk-container-id-1 input.sk-toggleable__control:checked~label.sk-toggleable__label-arrow:before {content: \"▾\";}#sk-container-id-1 div.sk-estimator input.sk-toggleable__control:checked~label.sk-toggleable__label {background-color: #d4ebff;}#sk-container-id-1 div.sk-label input.sk-toggleable__control:checked~label.sk-toggleable__label {background-color: #d4ebff;}#sk-container-id-1 input.sk-hidden--visually {border: 0;clip: rect(1px 1px 1px 1px);clip: rect(1px, 1px, 1px, 1px);height: 1px;margin: -1px;overflow: hidden;padding: 0;position: absolute;width: 1px;}#sk-container-id-1 div.sk-estimator {font-family: monospace;background-color: #f0f8ff;border: 1px dotted black;border-radius: 0.25em;box-sizing: border-box;margin-bottom: 0.5em;}#sk-container-id-1 div.sk-estimator:hover {background-color: #d4ebff;}#sk-container-id-1 div.sk-parallel-item::after {content: \"\";width: 100%;border-bottom: 1px solid gray;flex-grow: 1;}#sk-container-id-1 div.sk-label:hover label.sk-toggleable__label {background-color: #d4ebff;}#sk-container-id-1 div.sk-serial::before {content: \"\";position: absolute;border-left: 1px solid gray;box-sizing: border-box;top: 0;bottom: 0;left: 50%;z-index: 0;}#sk-container-id-1 div.sk-serial {display: flex;flex-direction: column;align-items: center;background-color: white;padding-right: 0.2em;padding-left: 0.2em;position: relative;}#sk-container-id-1 div.sk-item {position: relative;z-index: 1;}#sk-container-id-1 div.sk-parallel {display: flex;align-items: stretch;justify-content: center;background-color: white;position: relative;}#sk-container-id-1 div.sk-item::before, #sk-container-id-1 div.sk-parallel-item::before {content: \"\";position: absolute;border-left: 1px solid gray;box-sizing: border-box;top: 0;bottom: 0;left: 50%;z-index: -1;}#sk-container-id-1 div.sk-parallel-item {display: flex;flex-direction: column;z-index: 1;position: relative;background-color: white;}#sk-container-id-1 div.sk-parallel-item:first-child::after {align-self: flex-end;width: 50%;}#sk-container-id-1 div.sk-parallel-item:last-child::after {align-self: flex-start;width: 50%;}#sk-container-id-1 div.sk-parallel-item:only-child::after {width: 0;}#sk-container-id-1 div.sk-dashed-wrapped {border: 1px dashed gray;margin: 0 0.4em 0.5em 0.4em;box-sizing: border-box;padding-bottom: 0.4em;background-color: white;}#sk-container-id-1 div.sk-label label {font-family: monospace;font-weight: bold;display: inline-block;line-height: 1.2em;}#sk-container-id-1 div.sk-label-container {text-align: center;}#sk-container-id-1 div.sk-container {/* jupyter's `normalize.less` sets `[hidden] { display: none; }` but bootstrap.min.css set `[hidden] { display: none !important; }` so we also need the `!important` here to be able to override the default hidden behavior on the sphinx rendered scikit-learn.org. See: https://github.com/scikit-learn/scikit-learn/issues/21755 */display: inline-block !important;position: relative;}#sk-container-id-1 div.sk-text-repr-fallback {display: none;}</style><div id=\"sk-container-id-1\" class=\"sk-top-container\"><div class=\"sk-text-repr-fallback\"><pre>DecisionTreeClassifier()</pre><b>In a Jupyter environment, please rerun this cell to show the HTML representation or trust the notebook. <br />On GitHub, the HTML representation is unable to render, please try loading this page with nbviewer.org.</b></div><div class=\"sk-container\" hidden><div class=\"sk-item\"><div class=\"sk-estimator sk-toggleable\"><input class=\"sk-toggleable__control sk-hidden--visually\" id=\"sk-estimator-id-1\" type=\"checkbox\" checked><label for=\"sk-estimator-id-1\" class=\"sk-toggleable__label sk-toggleable__label-arrow\">DecisionTreeClassifier</label><div class=\"sk-toggleable__content\"><pre>DecisionTreeClassifier()</pre></div></div></div></div></div>"
      ],
      "text/plain": [
       "DecisionTreeClassifier()"
      ]
     },
     "execution_count": 5,
     "metadata": {},
     "output_type": "execute_result"
    }
   ],
   "source": [
    "# Cell 3: Train Base Decision Tree Model\n",
    "base_dt_model = DecisionTreeClassifier()\n",
    "base_dt_model.fit(penguin_X_train, penguin_y_train)"
   ]
  },
  {
   "cell_type": "code",
   "execution_count": 6,
   "metadata": {},
   "outputs": [],
   "source": [
    "# Cell 4: Predict and Evaluate Base Decision Tree Model\n",
    "penguin_y_pred_base_dt = base_dt_model.predict(penguin_X_test)\n",
    "\n",
    "conf_matrix_base_dt = confusion_matrix(penguin_y_test, penguin_y_pred_base_dt)\n",
    "precision_recall_f1_base_dt = precision_recall_fscore_support(penguin_y_test, penguin_y_pred_base_dt, average=None)\n",
    "accuracy_base_dt = accuracy_score(penguin_y_test, penguin_y_pred_base_dt)"
   ]
  },
  {
   "cell_type": "code",
   "execution_count": 7,
   "metadata": {},
   "outputs": [
    {
     "name": "stdout",
     "output_type": "stream",
     "text": [
      "Base-DT Model:\n",
      "Hyperparameters: Default\n",
      "(B) Confusion Matrix:\n",
      "[[31  0  0]\n",
      " [ 0 13  0]\n",
      " [ 0  0 23]]\n",
      "(C) Precision, Recall, and F1:\n",
      "              precision    recall  f1-score   support\n",
      "\n",
      "      Adelie       1.00      1.00      1.00        31\n",
      "   Chinstrap       1.00      1.00      1.00        13\n",
      "      Gentoo       1.00      1.00      1.00        23\n",
      "\n",
      "    accuracy                           1.00        67\n",
      "   macro avg       1.00      1.00      1.00        67\n",
      "weighted avg       1.00      1.00      1.00        67\n",
      "\n",
      "(D) Accuracy: 1.0\n",
      "(D) Macro-average F1: 1.0\n",
      "(D) Weighted-average F1: 1.0\n"
     ]
    }
   ],
   "source": [
    "# Display the results\n",
    "print(\"Base-DT Model:\")\n",
    "print(\"Hyperparameters: Default\")\n",
    "print(\"(B) Confusion Matrix:\")\n",
    "print(conf_matrix_base_dt)\n",
    "\n",
    "# Additional formatting for precision, recall, and f1\n",
    "class_labels = ['Adelie', 'Chinstrap', 'Gentoo']\n",
    "report = classification_report(penguin_y_test, penguin_y_pred_base_dt, target_names=class_labels)\n",
    "print(\"(C) Precision, Recall, and F1:\")\n",
    "print(report)\n",
    "# Display accuracy, macro-average F1, and weighted-average F1\n",
    "print(\"(D) Accuracy:\", accuracy_base_dt)\n",
    "print(\"(D) Macro-average F1:\", f1_score(penguin_y_test, penguin_y_pred_base_dt, average='macro'))\n",
    "print(\"(D) Weighted-average F1:\", f1_score(penguin_y_test, penguin_y_pred_base_dt, average='weighted'))\n",
    "\n",
    "# Write the results to a file\n",
    "output_path = 'penguin_performance.txt'\n",
    "with open(output_path, 'a') as file:\n",
    "    file.write(\"Base-DT Model:\\n\")\n",
    "    file.write(\"Hyperparameters: Default\\n\")\n",
    "    file.write(\"(B) Confusion Matrix:\\n\")\n",
    "    file.write(str(conf_matrix_base_dt) + '\\n')\n",
    "    file.write(\"(C) Precision, Recall, and F1:\\n\")\n",
    "    file.write(report + '\\n')\n",
    "    file.write(\"(D) Accuracy: {}\\n\".format(accuracy_base_dt))\n",
    "    file.write(\"(D) Macro-average F1: {}\\n\".format(f1_score(penguin_y_test, penguin_y_pred_base_dt, average='macro')))\n",
    "    file.write(\"(D) Weighted-average F1: {}\\n\".format(f1_score(penguin_y_test, penguin_y_pred_base_dt, average='weighted')))\n",
    "    file.write(\"--------------------\\n\")"
   ]
  },
  {
   "cell_type": "code",
   "execution_count": 8,
   "metadata": {},
   "outputs": [
    {
     "data": {
      "text/html": [
       "<style>#sk-container-id-2 {color: black;}#sk-container-id-2 pre{padding: 0;}#sk-container-id-2 div.sk-toggleable {background-color: white;}#sk-container-id-2 label.sk-toggleable__label {cursor: pointer;display: block;width: 100%;margin-bottom: 0;padding: 0.3em;box-sizing: border-box;text-align: center;}#sk-container-id-2 label.sk-toggleable__label-arrow:before {content: \"▸\";float: left;margin-right: 0.25em;color: #696969;}#sk-container-id-2 label.sk-toggleable__label-arrow:hover:before {color: black;}#sk-container-id-2 div.sk-estimator:hover label.sk-toggleable__label-arrow:before {color: black;}#sk-container-id-2 div.sk-toggleable__content {max-height: 0;max-width: 0;overflow: hidden;text-align: left;background-color: #f0f8ff;}#sk-container-id-2 div.sk-toggleable__content pre {margin: 0.2em;color: black;border-radius: 0.25em;background-color: #f0f8ff;}#sk-container-id-2 input.sk-toggleable__control:checked~div.sk-toggleable__content {max-height: 200px;max-width: 100%;overflow: auto;}#sk-container-id-2 input.sk-toggleable__control:checked~label.sk-toggleable__label-arrow:before {content: \"▾\";}#sk-container-id-2 div.sk-estimator input.sk-toggleable__control:checked~label.sk-toggleable__label {background-color: #d4ebff;}#sk-container-id-2 div.sk-label input.sk-toggleable__control:checked~label.sk-toggleable__label {background-color: #d4ebff;}#sk-container-id-2 input.sk-hidden--visually {border: 0;clip: rect(1px 1px 1px 1px);clip: rect(1px, 1px, 1px, 1px);height: 1px;margin: -1px;overflow: hidden;padding: 0;position: absolute;width: 1px;}#sk-container-id-2 div.sk-estimator {font-family: monospace;background-color: #f0f8ff;border: 1px dotted black;border-radius: 0.25em;box-sizing: border-box;margin-bottom: 0.5em;}#sk-container-id-2 div.sk-estimator:hover {background-color: #d4ebff;}#sk-container-id-2 div.sk-parallel-item::after {content: \"\";width: 100%;border-bottom: 1px solid gray;flex-grow: 1;}#sk-container-id-2 div.sk-label:hover label.sk-toggleable__label {background-color: #d4ebff;}#sk-container-id-2 div.sk-serial::before {content: \"\";position: absolute;border-left: 1px solid gray;box-sizing: border-box;top: 0;bottom: 0;left: 50%;z-index: 0;}#sk-container-id-2 div.sk-serial {display: flex;flex-direction: column;align-items: center;background-color: white;padding-right: 0.2em;padding-left: 0.2em;position: relative;}#sk-container-id-2 div.sk-item {position: relative;z-index: 1;}#sk-container-id-2 div.sk-parallel {display: flex;align-items: stretch;justify-content: center;background-color: white;position: relative;}#sk-container-id-2 div.sk-item::before, #sk-container-id-2 div.sk-parallel-item::before {content: \"\";position: absolute;border-left: 1px solid gray;box-sizing: border-box;top: 0;bottom: 0;left: 50%;z-index: -1;}#sk-container-id-2 div.sk-parallel-item {display: flex;flex-direction: column;z-index: 1;position: relative;background-color: white;}#sk-container-id-2 div.sk-parallel-item:first-child::after {align-self: flex-end;width: 50%;}#sk-container-id-2 div.sk-parallel-item:last-child::after {align-self: flex-start;width: 50%;}#sk-container-id-2 div.sk-parallel-item:only-child::after {width: 0;}#sk-container-id-2 div.sk-dashed-wrapped {border: 1px dashed gray;margin: 0 0.4em 0.5em 0.4em;box-sizing: border-box;padding-bottom: 0.4em;background-color: white;}#sk-container-id-2 div.sk-label label {font-family: monospace;font-weight: bold;display: inline-block;line-height: 1.2em;}#sk-container-id-2 div.sk-label-container {text-align: center;}#sk-container-id-2 div.sk-container {/* jupyter's `normalize.less` sets `[hidden] { display: none; }` but bootstrap.min.css set `[hidden] { display: none !important; }` so we also need the `!important` here to be able to override the default hidden behavior on the sphinx rendered scikit-learn.org. See: https://github.com/scikit-learn/scikit-learn/issues/21755 */display: inline-block !important;position: relative;}#sk-container-id-2 div.sk-text-repr-fallback {display: none;}</style><div id=\"sk-container-id-2\" class=\"sk-top-container\"><div class=\"sk-text-repr-fallback\"><pre>DecisionTreeClassifier(max_depth=5)</pre><b>In a Jupyter environment, please rerun this cell to show the HTML representation or trust the notebook. <br />On GitHub, the HTML representation is unable to render, please try loading this page with nbviewer.org.</b></div><div class=\"sk-container\" hidden><div class=\"sk-item\"><div class=\"sk-estimator sk-toggleable\"><input class=\"sk-toggleable__control sk-hidden--visually\" id=\"sk-estimator-id-2\" type=\"checkbox\" checked><label for=\"sk-estimator-id-2\" class=\"sk-toggleable__label sk-toggleable__label-arrow\">DecisionTreeClassifier</label><div class=\"sk-toggleable__content\"><pre>DecisionTreeClassifier(max_depth=5)</pre></div></div></div></div></div>"
      ],
      "text/plain": [
       "DecisionTreeClassifier(max_depth=5)"
      ]
     },
     "execution_count": 8,
     "metadata": {},
     "output_type": "execute_result"
    }
   ],
   "source": [
    "# part 5 for 4b\n",
    "# Define the hyperparameters for grid search\n",
    "param_grid = {\n",
    "    'criterion': ['gini', 'entropy'],\n",
    "    'max_depth': [None, 5, 10],\n",
    "    'min_samples_split': [2, 5, 10]\n",
    "}\n",
    "\n",
    "# Initialize the Decision Tree model\n",
    "top_dt_model = DecisionTreeClassifier()\n",
    "\n",
    "# Perform grid search to find the best hyperparameters\n",
    "grid_search = GridSearchCV(top_dt_model, param_grid, cv=5)\n",
    "grid_search.fit(penguin_X_train, penguin_y_train)\n",
    "\n",
    "# Get the best hyperparameters from the grid search\n",
    "best_params = grid_search.best_params_\n",
    "\n",
    "# Train the Top-DT model with the best hyperparameters\n",
    "top_dt_model = DecisionTreeClassifier(**best_params)\n",
    "top_dt_model.fit(penguin_X_train, penguin_y_train)\n"
   ]
  },
  {
   "cell_type": "code",
   "execution_count": 9,
   "metadata": {},
   "outputs": [],
   "source": [
    "# Predict on the test set\n",
    "penguin_y_pred_top_dt = top_dt_model.predict(penguin_X_test)\n",
    "\n",
    "# Evaluate the model\n",
    "conf_matrix_top_dt = confusion_matrix(penguin_y_test, penguin_y_pred_top_dt)\n",
    "precision_recall_f1_top_dt = precision_recall_fscore_support(penguin_y_test, penguin_y_pred_top_dt, average=None)\n",
    "accuracy_top_dt = accuracy_score(penguin_y_test, penguin_y_pred_top_dt)\n"
   ]
  },
  {
   "cell_type": "code",
   "execution_count": 10,
   "metadata": {},
   "outputs": [
    {
     "name": "stdout",
     "output_type": "stream",
     "text": [
      "Top Decision Tree Model:\n",
      "(A) Model Description:\n",
      "Top Decision Tree with hyperparameters: {'criterion': 'gini', 'max_depth': 5, 'min_samples_split': 2}\n",
      "(B) Confusion Matrix:\n",
      "[[31  0  0]\n",
      " [ 0 13  0]\n",
      " [ 0  0 23]]\n",
      "(C) Precision, Recall, and F1:\n",
      "              precision    recall  f1-score   support\n",
      "\n",
      "      Adelie       1.00      1.00      1.00        31\n",
      "   Chinstrap       1.00      1.00      1.00        13\n",
      "      Gentoo       1.00      1.00      1.00        23\n",
      "\n",
      "    accuracy                           1.00        67\n",
      "   macro avg       1.00      1.00      1.00        67\n",
      "weighted avg       1.00      1.00      1.00        67\n",
      "\n",
      "(D) Accuracy: 1.0\n",
      "(D) Macro-average F1: 1.0\n",
      "(D) Weighted-average F1: 1.0\n"
     ]
    }
   ],
   "source": [
    "# Display the results\n",
    "print(\"Top Decision Tree Model:\")\n",
    "print(\"(A) Model Description:\")\n",
    "print(\"Top Decision Tree with hyperparameters:\", grid_search.best_params_)\n",
    "print(\"(B) Confusion Matrix:\")\n",
    "print(conf_matrix_top_dt)\n",
    "\n",
    "# Additional formatting for precision, recall, and f1\n",
    "class_labels = ['Adelie', 'Chinstrap', 'Gentoo']\n",
    "report = classification_report(penguin_y_test, penguin_y_pred_top_dt, target_names=class_labels, zero_division=1)\n",
    "print(\"(C) Precision, Recall, and F1:\")\n",
    "print(report)\n",
    "\n",
    "# Display accuracy, macro-average F1, and weighted-average F1\n",
    "accuracy_top_dt = accuracy_score(penguin_y_test, penguin_y_pred_top_dt)\n",
    "macro_avg_f1_top_dt = f1_score(penguin_y_test, penguin_y_pred_top_dt, average='macro')\n",
    "weighted_avg_f1_top_dt = f1_score(penguin_y_test, penguin_y_pred_top_dt, average='weighted')\n",
    "\n",
    "print(\"(D) Accuracy:\", accuracy_top_dt)\n",
    "print(\"(D) Macro-average F1:\", macro_avg_f1_top_dt)\n",
    "print(\"(D) Weighted-average F1:\", weighted_avg_f1_top_dt)\n",
    "\n",
    "# Write results to file\n",
    "with open(\"penguin_performance.txt\", \"a\") as file:\n",
    "    file.write(\"Top Decision Tree Model:\\n\")\n",
    "    file.write(\"(A) Model Description:\\nTop Decision Tree with hyperparameters: {}\\n\".format(grid_search.best_params_))\n",
    "    file.write(\"(B) Confusion Matrix:\\n{}\\n\".format(conf_matrix_top_dt))\n",
    "    \n",
    "    # Additional formatting for precision, recall, and f1\n",
    "    file.write(\"(C) Precision, Recall, and F1:\\n{}\\n\".format(report))\n",
    "    \n",
    "    file.write(\"(D) Accuracy: {}\\n\".format(accuracy_top_dt))\n",
    "    file.write(\"(D) Macro-average F1: {}\\n\".format(macro_avg_f1_top_dt))\n",
    "    file.write(\"(D) Weighted-average F1: {}\\n\".format(weighted_avg_f1_top_dt))\n",
    "    \n",
    "    file.write(\"--------------------\\n\")  # Separator\n"
   ]
  },
  {
   "cell_type": "code",
   "execution_count": 11,
   "metadata": {},
   "outputs": [
    {
     "name": "stdout",
     "output_type": "stream",
     "text": [
      "--------------------\n",
      "Base MLP Model\n"
     ]
    }
   ],
   "source": [
    "# part 5 for penguin 4c\n",
    "# Base MLP Model\n",
    "print(\"--------------------\")\n",
    "print(\"Base MLP Model\")\n",
    "\n",
    "# Initialize the Base MLP model\n",
    "base_mlp_model = MLPClassifier(hidden_layer_sizes=(100, 100), activation='logistic', solver='sgd', random_state=42)"
   ]
  },
  {
   "cell_type": "code",
   "execution_count": 12,
   "metadata": {},
   "outputs": [
    {
     "data": {
      "text/html": [
       "<style>#sk-container-id-3 {color: black;}#sk-container-id-3 pre{padding: 0;}#sk-container-id-3 div.sk-toggleable {background-color: white;}#sk-container-id-3 label.sk-toggleable__label {cursor: pointer;display: block;width: 100%;margin-bottom: 0;padding: 0.3em;box-sizing: border-box;text-align: center;}#sk-container-id-3 label.sk-toggleable__label-arrow:before {content: \"▸\";float: left;margin-right: 0.25em;color: #696969;}#sk-container-id-3 label.sk-toggleable__label-arrow:hover:before {color: black;}#sk-container-id-3 div.sk-estimator:hover label.sk-toggleable__label-arrow:before {color: black;}#sk-container-id-3 div.sk-toggleable__content {max-height: 0;max-width: 0;overflow: hidden;text-align: left;background-color: #f0f8ff;}#sk-container-id-3 div.sk-toggleable__content pre {margin: 0.2em;color: black;border-radius: 0.25em;background-color: #f0f8ff;}#sk-container-id-3 input.sk-toggleable__control:checked~div.sk-toggleable__content {max-height: 200px;max-width: 100%;overflow: auto;}#sk-container-id-3 input.sk-toggleable__control:checked~label.sk-toggleable__label-arrow:before {content: \"▾\";}#sk-container-id-3 div.sk-estimator input.sk-toggleable__control:checked~label.sk-toggleable__label {background-color: #d4ebff;}#sk-container-id-3 div.sk-label input.sk-toggleable__control:checked~label.sk-toggleable__label {background-color: #d4ebff;}#sk-container-id-3 input.sk-hidden--visually {border: 0;clip: rect(1px 1px 1px 1px);clip: rect(1px, 1px, 1px, 1px);height: 1px;margin: -1px;overflow: hidden;padding: 0;position: absolute;width: 1px;}#sk-container-id-3 div.sk-estimator {font-family: monospace;background-color: #f0f8ff;border: 1px dotted black;border-radius: 0.25em;box-sizing: border-box;margin-bottom: 0.5em;}#sk-container-id-3 div.sk-estimator:hover {background-color: #d4ebff;}#sk-container-id-3 div.sk-parallel-item::after {content: \"\";width: 100%;border-bottom: 1px solid gray;flex-grow: 1;}#sk-container-id-3 div.sk-label:hover label.sk-toggleable__label {background-color: #d4ebff;}#sk-container-id-3 div.sk-serial::before {content: \"\";position: absolute;border-left: 1px solid gray;box-sizing: border-box;top: 0;bottom: 0;left: 50%;z-index: 0;}#sk-container-id-3 div.sk-serial {display: flex;flex-direction: column;align-items: center;background-color: white;padding-right: 0.2em;padding-left: 0.2em;position: relative;}#sk-container-id-3 div.sk-item {position: relative;z-index: 1;}#sk-container-id-3 div.sk-parallel {display: flex;align-items: stretch;justify-content: center;background-color: white;position: relative;}#sk-container-id-3 div.sk-item::before, #sk-container-id-3 div.sk-parallel-item::before {content: \"\";position: absolute;border-left: 1px solid gray;box-sizing: border-box;top: 0;bottom: 0;left: 50%;z-index: -1;}#sk-container-id-3 div.sk-parallel-item {display: flex;flex-direction: column;z-index: 1;position: relative;background-color: white;}#sk-container-id-3 div.sk-parallel-item:first-child::after {align-self: flex-end;width: 50%;}#sk-container-id-3 div.sk-parallel-item:last-child::after {align-self: flex-start;width: 50%;}#sk-container-id-3 div.sk-parallel-item:only-child::after {width: 0;}#sk-container-id-3 div.sk-dashed-wrapped {border: 1px dashed gray;margin: 0 0.4em 0.5em 0.4em;box-sizing: border-box;padding-bottom: 0.4em;background-color: white;}#sk-container-id-3 div.sk-label label {font-family: monospace;font-weight: bold;display: inline-block;line-height: 1.2em;}#sk-container-id-3 div.sk-label-container {text-align: center;}#sk-container-id-3 div.sk-container {/* jupyter's `normalize.less` sets `[hidden] { display: none; }` but bootstrap.min.css set `[hidden] { display: none !important; }` so we also need the `!important` here to be able to override the default hidden behavior on the sphinx rendered scikit-learn.org. See: https://github.com/scikit-learn/scikit-learn/issues/21755 */display: inline-block !important;position: relative;}#sk-container-id-3 div.sk-text-repr-fallback {display: none;}</style><div id=\"sk-container-id-3\" class=\"sk-top-container\"><div class=\"sk-text-repr-fallback\"><pre>MLPClassifier(activation=&#x27;logistic&#x27;, hidden_layer_sizes=(100, 100),\n",
       "              random_state=42, solver=&#x27;sgd&#x27;)</pre><b>In a Jupyter environment, please rerun this cell to show the HTML representation or trust the notebook. <br />On GitHub, the HTML representation is unable to render, please try loading this page with nbviewer.org.</b></div><div class=\"sk-container\" hidden><div class=\"sk-item\"><div class=\"sk-estimator sk-toggleable\"><input class=\"sk-toggleable__control sk-hidden--visually\" id=\"sk-estimator-id-3\" type=\"checkbox\" checked><label for=\"sk-estimator-id-3\" class=\"sk-toggleable__label sk-toggleable__label-arrow\">MLPClassifier</label><div class=\"sk-toggleable__content\"><pre>MLPClassifier(activation=&#x27;logistic&#x27;, hidden_layer_sizes=(100, 100),\n",
       "              random_state=42, solver=&#x27;sgd&#x27;)</pre></div></div></div></div></div>"
      ],
      "text/plain": [
       "MLPClassifier(activation='logistic', hidden_layer_sizes=(100, 100),\n",
       "              random_state=42, solver='sgd')"
      ]
     },
     "execution_count": 12,
     "metadata": {},
     "output_type": "execute_result"
    }
   ],
   "source": [
    "# Train the model\n",
    "base_mlp_model.fit(penguin_X_train, penguin_y_train)"
   ]
  },
  {
   "cell_type": "code",
   "execution_count": 13,
   "metadata": {},
   "outputs": [],
   "source": [
    "# Predict on the test set\n",
    "penguin_y_pred_base_mlp = base_mlp_model.predict(penguin_X_test)"
   ]
  },
  {
   "cell_type": "code",
   "execution_count": 14,
   "metadata": {},
   "outputs": [],
   "source": [
    "# Cell 5\n",
    "# Evaluate the model\n",
    "conf_matrix_base_mlp = confusion_matrix(penguin_y_test, penguin_y_pred_base_mlp)\n",
    "precision_recall_f1_base_mlp = precision_recall_fscore_support(penguin_y_test, penguin_y_pred_base_mlp, average=None, zero_division=1)  # Set zero_division parameter\n",
    "accuracy_base_mlp = accuracy_score(penguin_y_test, penguin_y_pred_base_mlp)\n"
   ]
  },
  {
   "cell_type": "code",
   "execution_count": 15,
   "metadata": {},
   "outputs": [
    {
     "name": "stdout",
     "output_type": "stream",
     "text": [
      "Base MLP Model:\n",
      "(A) Model Description:\n",
      "Base Multi-Layered Perceptron with 2 hidden layers of 100+100 neurons, sigmoid/logistic as activation function, stochastic gradient descent, and default values for the rest of the parameters.\n",
      "(B) Confusion Matrix:\n",
      "[[31  0  0]\n",
      " [13  0  0]\n",
      " [23  0  0]]\n"
     ]
    }
   ],
   "source": [
    "# Display the results\n",
    "print(\"Base MLP Model:\")\n",
    "print(\"(A) Model Description:\")\n",
    "print(\"Base Multi-Layered Perceptron with 2 hidden layers of 100+100 neurons, sigmoid/logistic as activation function, stochastic gradient descent, and default values for the rest of the parameters.\")\n",
    "print(\"(B) Confusion Matrix:\")\n",
    "print(conf_matrix_base_mlp)"
   ]
  },
  {
   "cell_type": "code",
   "execution_count": 16,
   "metadata": {},
   "outputs": [
    {
     "name": "stdout",
     "output_type": "stream",
     "text": [
      "(C) Precision, Recall, and F1:\n",
      "              precision    recall  f1-score   support\n",
      "\n",
      "      Adelie       0.46      1.00      0.63        31\n",
      "   Chinstrap       1.00      0.00      0.00        13\n",
      "      Gentoo       1.00      0.00      0.00        23\n",
      "\n",
      "    accuracy                           0.46        67\n",
      "   macro avg       0.82      0.33      0.21        67\n",
      "weighted avg       0.75      0.46      0.29        67\n",
      "\n"
     ]
    }
   ],
   "source": [
    "# Additional formatting for precision, recall, and f1\n",
    "class_labels = ['Adelie', 'Chinstrap', 'Gentoo']\n",
    "report = classification_report(penguin_y_test, penguin_y_pred_base_mlp, target_names=class_labels, zero_division=1)  # Set zero_division parameter\n",
    "print(\"(C) Precision, Recall, and F1:\")\n",
    "print(report)"
   ]
  },
  {
   "cell_type": "code",
   "execution_count": 17,
   "metadata": {},
   "outputs": [
    {
     "name": "stdout",
     "output_type": "stream",
     "text": [
      "(D) Accuracy: 0.4626865671641791\n",
      "(D) Macro-average F1: 0.2108843537414966\n",
      "(D) Weighted-average F1: 0.29272007310386844\n"
     ]
    }
   ],
   "source": [
    "# Display accuracy, macro-average F1, and weighted-average F1\n",
    "print(\"(D) Accuracy:\", accuracy_base_mlp)\n",
    "print(\"(D) Macro-average F1:\", f1_score(penguin_y_test, penguin_y_pred_base_mlp, average='macro'))\n",
    "print(\"(D) Weighted-average F1:\", f1_score(penguin_y_test, penguin_y_pred_base_mlp, average='weighted'))\n"
   ]
  },
  {
   "cell_type": "code",
   "execution_count": 18,
   "metadata": {},
   "outputs": [],
   "source": [
    "# Write the results to a file\n",
    "output_path = 'penguin_performance.txt'\n",
    "with open(output_path, 'a') as file:\n",
    "    file.write(\"Base MLP Model:\\n\")\n",
    "    file.write(\"(A) Model Description:\\n\")\n",
    "    file.write(\"Base Multi-Layered Perceptron with 2 hidden layers of 100+100 neurons, sigmoid/logistic as activation function, stochastic gradient descent, and default values for the rest of the parameters.\\n\")\n",
    "    file.write(\"(B) Confusion Matrix:\\n\")\n",
    "    file.write(str(conf_matrix_base_mlp) + '\\n')\n",
    "    file.write(\"(C) Precision, Recall, and F1:\\n\")\n",
    "    file.write(report + '\\n')\n",
    "    file.write(\"(D) Accuracy: {}\\n\".format(accuracy_base_mlp))\n",
    "    file.write(\"(D) Macro-average F1: {}\\n\".format(f1_score(penguin_y_test, penguin_y_pred_base_mlp, average='macro')))\n",
    "    file.write(\"(D) Weighted-average F1: {}\\n\".format(f1_score(penguin_y_test, penguin_y_pred_base_mlp, average='weighted')))\n",
    "    file.write(\"--------------------\\n\")"
   ]
  },
  {
   "cell_type": "code",
   "execution_count": 19,
   "metadata": {},
   "outputs": [],
   "source": [
    "# Define hyperparameter values for grid search\n",
    "param_grid_mlp = {\n",
    "    'activation': ['logistic', 'tanh', 'relu'],\n",
    "    'hidden_layer_sizes': [(30, 50), (10, 10, 10)],\n",
    "    'solver': ['adam', 'sgd']\n",
    "}\n",
    "\n",
    "# Initialize the Top MLP model\n",
    "top_mlp_model = MLPClassifier(random_state=42, max_iter=1000)  # Increase max_iter to avoid convergence warning"
   ]
  },
  {
   "cell_type": "code",
   "execution_count": 20,
   "metadata": {},
   "outputs": [
    {
     "name": "stdout",
     "output_type": "stream",
     "text": [
      "Fitting 10 folds for each of 12 candidates, totalling 120 fits\n"
     ]
    },
    {
     "data": {
      "text/html": [
       "<style>#sk-container-id-4 {color: black;}#sk-container-id-4 pre{padding: 0;}#sk-container-id-4 div.sk-toggleable {background-color: white;}#sk-container-id-4 label.sk-toggleable__label {cursor: pointer;display: block;width: 100%;margin-bottom: 0;padding: 0.3em;box-sizing: border-box;text-align: center;}#sk-container-id-4 label.sk-toggleable__label-arrow:before {content: \"▸\";float: left;margin-right: 0.25em;color: #696969;}#sk-container-id-4 label.sk-toggleable__label-arrow:hover:before {color: black;}#sk-container-id-4 div.sk-estimator:hover label.sk-toggleable__label-arrow:before {color: black;}#sk-container-id-4 div.sk-toggleable__content {max-height: 0;max-width: 0;overflow: hidden;text-align: left;background-color: #f0f8ff;}#sk-container-id-4 div.sk-toggleable__content pre {margin: 0.2em;color: black;border-radius: 0.25em;background-color: #f0f8ff;}#sk-container-id-4 input.sk-toggleable__control:checked~div.sk-toggleable__content {max-height: 200px;max-width: 100%;overflow: auto;}#sk-container-id-4 input.sk-toggleable__control:checked~label.sk-toggleable__label-arrow:before {content: \"▾\";}#sk-container-id-4 div.sk-estimator input.sk-toggleable__control:checked~label.sk-toggleable__label {background-color: #d4ebff;}#sk-container-id-4 div.sk-label input.sk-toggleable__control:checked~label.sk-toggleable__label {background-color: #d4ebff;}#sk-container-id-4 input.sk-hidden--visually {border: 0;clip: rect(1px 1px 1px 1px);clip: rect(1px, 1px, 1px, 1px);height: 1px;margin: -1px;overflow: hidden;padding: 0;position: absolute;width: 1px;}#sk-container-id-4 div.sk-estimator {font-family: monospace;background-color: #f0f8ff;border: 1px dotted black;border-radius: 0.25em;box-sizing: border-box;margin-bottom: 0.5em;}#sk-container-id-4 div.sk-estimator:hover {background-color: #d4ebff;}#sk-container-id-4 div.sk-parallel-item::after {content: \"\";width: 100%;border-bottom: 1px solid gray;flex-grow: 1;}#sk-container-id-4 div.sk-label:hover label.sk-toggleable__label {background-color: #d4ebff;}#sk-container-id-4 div.sk-serial::before {content: \"\";position: absolute;border-left: 1px solid gray;box-sizing: border-box;top: 0;bottom: 0;left: 50%;z-index: 0;}#sk-container-id-4 div.sk-serial {display: flex;flex-direction: column;align-items: center;background-color: white;padding-right: 0.2em;padding-left: 0.2em;position: relative;}#sk-container-id-4 div.sk-item {position: relative;z-index: 1;}#sk-container-id-4 div.sk-parallel {display: flex;align-items: stretch;justify-content: center;background-color: white;position: relative;}#sk-container-id-4 div.sk-item::before, #sk-container-id-4 div.sk-parallel-item::before {content: \"\";position: absolute;border-left: 1px solid gray;box-sizing: border-box;top: 0;bottom: 0;left: 50%;z-index: -1;}#sk-container-id-4 div.sk-parallel-item {display: flex;flex-direction: column;z-index: 1;position: relative;background-color: white;}#sk-container-id-4 div.sk-parallel-item:first-child::after {align-self: flex-end;width: 50%;}#sk-container-id-4 div.sk-parallel-item:last-child::after {align-self: flex-start;width: 50%;}#sk-container-id-4 div.sk-parallel-item:only-child::after {width: 0;}#sk-container-id-4 div.sk-dashed-wrapped {border: 1px dashed gray;margin: 0 0.4em 0.5em 0.4em;box-sizing: border-box;padding-bottom: 0.4em;background-color: white;}#sk-container-id-4 div.sk-label label {font-family: monospace;font-weight: bold;display: inline-block;line-height: 1.2em;}#sk-container-id-4 div.sk-label-container {text-align: center;}#sk-container-id-4 div.sk-container {/* jupyter's `normalize.less` sets `[hidden] { display: none; }` but bootstrap.min.css set `[hidden] { display: none !important; }` so we also need the `!important` here to be able to override the default hidden behavior on the sphinx rendered scikit-learn.org. See: https://github.com/scikit-learn/scikit-learn/issues/21755 */display: inline-block !important;position: relative;}#sk-container-id-4 div.sk-text-repr-fallback {display: none;}</style><div id=\"sk-container-id-4\" class=\"sk-top-container\"><div class=\"sk-text-repr-fallback\"><pre>GridSearchCV(cv=10, estimator=MLPClassifier(max_iter=1000, random_state=42),\n",
       "             n_jobs=-1,\n",
       "             param_grid={&#x27;activation&#x27;: [&#x27;logistic&#x27;, &#x27;tanh&#x27;, &#x27;relu&#x27;],\n",
       "                         &#x27;hidden_layer_sizes&#x27;: [(30, 50), (10, 10, 10)],\n",
       "                         &#x27;solver&#x27;: [&#x27;adam&#x27;, &#x27;sgd&#x27;]},\n",
       "             scoring=&#x27;accuracy&#x27;, verbose=2)</pre><b>In a Jupyter environment, please rerun this cell to show the HTML representation or trust the notebook. <br />On GitHub, the HTML representation is unable to render, please try loading this page with nbviewer.org.</b></div><div class=\"sk-container\" hidden><div class=\"sk-item sk-dashed-wrapped\"><div class=\"sk-label-container\"><div class=\"sk-label sk-toggleable\"><input class=\"sk-toggleable__control sk-hidden--visually\" id=\"sk-estimator-id-4\" type=\"checkbox\" ><label for=\"sk-estimator-id-4\" class=\"sk-toggleable__label sk-toggleable__label-arrow\">GridSearchCV</label><div class=\"sk-toggleable__content\"><pre>GridSearchCV(cv=10, estimator=MLPClassifier(max_iter=1000, random_state=42),\n",
       "             n_jobs=-1,\n",
       "             param_grid={&#x27;activation&#x27;: [&#x27;logistic&#x27;, &#x27;tanh&#x27;, &#x27;relu&#x27;],\n",
       "                         &#x27;hidden_layer_sizes&#x27;: [(30, 50), (10, 10, 10)],\n",
       "                         &#x27;solver&#x27;: [&#x27;adam&#x27;, &#x27;sgd&#x27;]},\n",
       "             scoring=&#x27;accuracy&#x27;, verbose=2)</pre></div></div></div><div class=\"sk-parallel\"><div class=\"sk-parallel-item\"><div class=\"sk-item\"><div class=\"sk-label-container\"><div class=\"sk-label sk-toggleable\"><input class=\"sk-toggleable__control sk-hidden--visually\" id=\"sk-estimator-id-5\" type=\"checkbox\" ><label for=\"sk-estimator-id-5\" class=\"sk-toggleable__label sk-toggleable__label-arrow\">estimator: MLPClassifier</label><div class=\"sk-toggleable__content\"><pre>MLPClassifier(max_iter=1000, random_state=42)</pre></div></div></div><div class=\"sk-serial\"><div class=\"sk-item\"><div class=\"sk-estimator sk-toggleable\"><input class=\"sk-toggleable__control sk-hidden--visually\" id=\"sk-estimator-id-6\" type=\"checkbox\" ><label for=\"sk-estimator-id-6\" class=\"sk-toggleable__label sk-toggleable__label-arrow\">MLPClassifier</label><div class=\"sk-toggleable__content\"><pre>MLPClassifier(max_iter=1000, random_state=42)</pre></div></div></div></div></div></div></div></div></div></div>"
      ],
      "text/plain": [
       "GridSearchCV(cv=10, estimator=MLPClassifier(max_iter=1000, random_state=42),\n",
       "             n_jobs=-1,\n",
       "             param_grid={'activation': ['logistic', 'tanh', 'relu'],\n",
       "                         'hidden_layer_sizes': [(30, 50), (10, 10, 10)],\n",
       "                         'solver': ['adam', 'sgd']},\n",
       "             scoring='accuracy', verbose=2)"
      ]
     },
     "execution_count": 20,
     "metadata": {},
     "output_type": "execute_result"
    }
   ],
   "source": [
    "# Perform grid search to find the best hyperparameters\n",
    "grid_search_mlp = GridSearchCV(\n",
    "    top_mlp_model,\n",
    "    param_grid=param_grid_mlp,\n",
    "    cv=10,\n",
    "    scoring='accuracy',\n",
    "    verbose=2,\n",
    "    n_jobs=-1\n",
    ")\n",
    "grid_search_mlp.fit(penguin_X_train, penguin_y_train)"
   ]
  },
  {
   "cell_type": "code",
   "execution_count": 21,
   "metadata": {},
   "outputs": [],
   "source": [
    "# Get the best hyperparameters from the grid search\n",
    "best_params_mlp = grid_search_mlp.best_estimator_.get_params()"
   ]
  },
  {
   "cell_type": "code",
   "execution_count": 22,
   "metadata": {},
   "outputs": [],
   "source": [
    "# Predict on the test set using the best model\n",
    "penguin_y_pred_top_mlp = grid_search_mlp.predict(penguin_X_test)\n",
    "\n",
    "# Evaluate the model\n",
    "conf_matrix_top_mlp = confusion_matrix(penguin_y_test, penguin_y_pred_top_mlp)\n",
    "precision_recall_f1_top_mlp = precision_recall_fscore_support(penguin_y_test, penguin_y_pred_top_mlp, average=None, zero_division=1)\n",
    "accuracy_top_mlp = accuracy_score(penguin_y_test, penguin_y_pred_top_mlp)\n",
    "macro_avg_f1_top_mlp = f1_score(penguin_y_test, penguin_y_pred_top_mlp, average='macro')\n",
    "weighted_avg_f1_top_mlp = f1_score(penguin_y_test, penguin_y_pred_top_mlp, average='weighted')\n"
   ]
  },
  {
   "cell_type": "code",
   "execution_count": 23,
   "metadata": {},
   "outputs": [
    {
     "name": "stdout",
     "output_type": "stream",
     "text": [
      "Top MLP Model:\n",
      "(A) Model Description:\n",
      "Top MLP with hyperparameters: {'activation': 'logistic', 'alpha': 0.0001, 'batch_size': 'auto', 'beta_1': 0.9, 'beta_2': 0.999, 'early_stopping': False, 'epsilon': 1e-08, 'hidden_layer_sizes': (30, 50), 'learning_rate': 'constant', 'learning_rate_init': 0.001, 'max_fun': 15000, 'max_iter': 1000, 'momentum': 0.9, 'n_iter_no_change': 10, 'nesterovs_momentum': True, 'power_t': 0.5, 'random_state': 42, 'shuffle': True, 'solver': 'adam', 'tol': 0.0001, 'validation_fraction': 0.1, 'verbose': False, 'warm_start': False}\n",
      "(B) Confusion Matrix:\n",
      "[[29  0  2]\n",
      " [13  0  0]\n",
      " [ 1  0 22]]\n",
      "(C) Precision, Recall, and F1:\n",
      "              precision    recall  f1-score   support\n",
      "\n",
      "      Adelie       0.67      0.94      0.78        31\n",
      "   Chinstrap       1.00      0.00      0.00        13\n",
      "      Gentoo       0.92      0.96      0.94        23\n",
      "\n",
      "    accuracy                           0.76        67\n",
      "   macro avg       0.86      0.63      0.57        67\n",
      "weighted avg       0.82      0.76      0.68        67\n",
      "\n",
      "(D) Accuracy: 0.7611940298507462\n",
      "(D) Macro-average F1: 0.5733179988499137\n",
      "(D) Weighted-average F1: 0.6840180924017063\n"
     ]
    }
   ],
   "source": [
    "# Display the results\n",
    "print(\"Top MLP Model:\")\n",
    "print(\"(A) Model Description:\")\n",
    "print(\"Top MLP with hyperparameters:\", best_params_mlp)\n",
    "print(\"(B) Confusion Matrix:\")\n",
    "print(conf_matrix_top_mlp)\n",
    "\n",
    "# Additional formatting for precision, recall, and f1\n",
    "class_labels = ['Adelie', 'Chinstrap', 'Gentoo']\n",
    "report_top_mlp = classification_report(penguin_y_test, penguin_y_pred_top_mlp, target_names=class_labels, zero_division=1)\n",
    "print(\"(C) Precision, Recall, and F1:\")\n",
    "print(report_top_mlp)\n",
    "\n",
    "# Display accuracy, macro-average F1, and weighted-average F1\n",
    "print(\"(D) Accuracy:\", accuracy_top_mlp)\n",
    "print(\"(D) Macro-average F1:\", macro_avg_f1_top_mlp)\n",
    "print(\"(D) Weighted-average F1:\", weighted_avg_f1_top_mlp)\n"
   ]
  },
  {
   "cell_type": "code",
   "execution_count": 24,
   "metadata": {},
   "outputs": [
    {
     "name": "stdout",
     "output_type": "stream",
     "text": [
      "Top MLP Model:\n",
      "(A) Model Description:\n",
      "Top MLP with hyperparameters: {'activation': 'logistic', 'alpha': 0.0001, 'batch_size': 'auto', 'beta_1': 0.9, 'beta_2': 0.999, 'early_stopping': False, 'epsilon': 1e-08, 'hidden_layer_sizes': (30, 50), 'learning_rate': 'constant', 'learning_rate_init': 0.001, 'max_fun': 15000, 'max_iter': 1000, 'momentum': 0.9, 'n_iter_no_change': 10, 'nesterovs_momentum': True, 'power_t': 0.5, 'random_state': 42, 'shuffle': True, 'solver': 'adam', 'tol': 0.0001, 'validation_fraction': 0.1, 'verbose': False, 'warm_start': False}\n",
      "(B) Confusion Matrix:\n",
      "[[29  0  2]\n",
      " [13  0  0]\n",
      " [ 1  0 22]]\n",
      "(C) Precision, Recall, and F1:\n",
      "              precision    recall  f1-score   support\n",
      "\n",
      "      Adelie       0.67      0.94      0.78        31\n",
      "   Chinstrap       1.00      0.00      0.00        13\n",
      "      Gentoo       0.92      0.96      0.94        23\n",
      "\n",
      "    accuracy                           0.76        67\n",
      "   macro avg       0.86      0.63      0.57        67\n",
      "weighted avg       0.82      0.76      0.68        67\n",
      "\n",
      "(D) Accuracy: 0.7611940298507462\n",
      "(D) Macro-average F1: 0.5733179988499137\n",
      "(D) Weighted-average F1: 0.6840180924017063\n"
     ]
    }
   ],
   "source": [
    "# Display the results\n",
    "print(\"Top MLP Model:\")\n",
    "print(\"(A) Model Description:\")\n",
    "print(\"Top MLP with hyperparameters:\", best_params_mlp)\n",
    "print(\"(B) Confusion Matrix:\")\n",
    "print(conf_matrix_top_mlp)\n",
    "\n",
    "# Additional formatting for precision, recall, and f1\n",
    "class_labels = ['Adelie', 'Chinstrap', 'Gentoo']\n",
    "report_top_mlp = classification_report(penguin_y_test, penguin_y_pred_top_mlp, target_names=class_labels, zero_division=1)\n",
    "print(\"(C) Precision, Recall, and F1:\")\n",
    "print(report_top_mlp)\n",
    "\n",
    "# Display accuracy, macro-average F1, and weighted-average F1\n",
    "print(\"(D) Accuracy:\", accuracy_top_mlp)\n",
    "print(\"(D) Macro-average F1:\", macro_avg_f1_top_mlp)\n",
    "print(\"(D) Weighted-average F1:\", weighted_avg_f1_top_mlp)    \n",
    "\n",
    "with open(\"penguin_performance.txt\", \"a\") as file:\n",
    "    file.write(\"Top MLP Model:\\n\")\n",
    "    file.write(\"(A) Model Description:\\nTop MLP with hyperparameters: {}\\n\".format(best_params_mlp))\n",
    "    file.write(\"(B) Confusion Matrix:\\n{}\\n\".format(conf_matrix_top_mlp))\n",
    "\n",
    "    # Additional formatting for precision, recall, and f1\n",
    "    class_labels = ['Adelie', 'Chinstrap', 'Gentoo']\n",
    "    report_top_mlp = classification_report(penguin_y_test, penguin_y_pred_top_mlp, target_names=class_labels, zero_division=1)\n",
    "    file.write(\"(C) Precision, Recall, and F1:\\n{}\\n\".format(report_top_mlp))\n",
    "\n",
    "    file.write(\"(D) Accuracy: {}\\n\".format(accuracy_top_mlp))\n",
    "    file.write(\"(D) Macro-average F1: {}\\n\".format(macro_avg_f1_top_mlp))\n",
    "    file.write(\"(D) Weighted-average F1: {}\\n\".format(weighted_avg_f1_top_mlp))\n",
    "\n",
    "    file.write(\"--------------------\\n\")  # Separator\n"
   ]
  }
 ],
 "metadata": {
  "kernelspec": {
   "display_name": "Python 3",
   "language": "python",
   "name": "python3"
  },
  "language_info": {
   "codemirror_mode": {
    "name": "ipython",
    "version": 3
   },
   "file_extension": ".py",
   "mimetype": "text/x-python",
   "name": "python",
   "nbconvert_exporter": "python",
   "pygments_lexer": "ipython3",
   "version": "3.11.5"
  }
 },
 "nbformat": 4,
 "nbformat_minor": 2
}
