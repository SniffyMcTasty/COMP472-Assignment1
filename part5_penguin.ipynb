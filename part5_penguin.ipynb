{
 "cells": [
  {
   "cell_type": "code",
   "execution_count": 15,
   "metadata": {},
   "outputs": [],
   "source": [
    "import pandas as pd\n",
    "from sklearn.model_selection import train_test_split\n",
    "from sklearn.tree import DecisionTreeClassifier\n",
    "from sklearn.metrics import confusion_matrix, precision_recall_fscore_support, accuracy_score\n",
    "from sklearn.preprocessing import OneHotEncoder\n",
    "from sklearn.metrics import f1_score\n",
    "from sklearn.model_selection import GridSearchCV\n",
    "from sklearn.neural_network import MLPClassifier\n",
    "from sklearn.preprocessing import StandardScaler"
   ]
  },
  {
   "cell_type": "code",
   "execution_count": 2,
   "metadata": {},
   "outputs": [],
   "source": [
    "# Cell 2: Load Penguin Dataset and Prepare Data\n",
    "penguin_path = r'C:\\Users\\ibrah\\OneDrive\\Desktop\\COMP472-A1-datasets\\penguins.csv'\n",
    "penguin_data = pd.read_csv(penguin_path)"
   ]
  },
  {
   "cell_type": "code",
   "execution_count": 3,
   "metadata": {},
   "outputs": [],
   "source": [
    "# Convert features into 1-hot vectors, so data can be used for training\n",
    "categorical_columns = ['island', 'sex']\n",
    "penguin_categorical = penguin_data[categorical_columns]\n",
    "\n",
    "# Initialize the OneHotEncoder\n",
    "encoder = OneHotEncoder()\n",
    "\n",
    "# Fit and transform the categorical columns\n",
    "one_hot_encoded = encoder.fit_transform(penguin_categorical).toarray()\n",
    "\n",
    "# Create a DataFrame with the one-hot encoded features\n",
    "one_hot_df = pd.DataFrame(one_hot_encoded, columns=encoder.get_feature_names_out(categorical_columns))\n",
    "\n",
    "# Concatenate the one-hot encoded DataFrame with the original DataFrame, dropping the original categorical columns\n",
    "penguin_data_encoded = pd.concat([penguin_data, one_hot_df], axis=1).drop(categorical_columns, axis=1)"
   ]
  },
  {
   "cell_type": "code",
   "execution_count": 4,
   "metadata": {},
   "outputs": [],
   "source": [
    "# Split the dataset using train_test_split\n",
    "penguin_features = penguin_data_encoded.drop('species', axis=1)\n",
    "penguin_target = penguin_data_encoded['species']\n",
    "\n",
    "penguin_X_train, penguin_X_test, penguin_y_train, penguin_y_test = train_test_split(\n",
    "    penguin_features, penguin_target, test_size=0.2, random_state=42\n",
    ")"
   ]
  },
  {
   "cell_type": "code",
   "execution_count": 5,
   "metadata": {},
   "outputs": [
    {
     "data": {
      "text/html": [
       "<style>#sk-container-id-1 {color: black;}#sk-container-id-1 pre{padding: 0;}#sk-container-id-1 div.sk-toggleable {background-color: white;}#sk-container-id-1 label.sk-toggleable__label {cursor: pointer;display: block;width: 100%;margin-bottom: 0;padding: 0.3em;box-sizing: border-box;text-align: center;}#sk-container-id-1 label.sk-toggleable__label-arrow:before {content: \"▸\";float: left;margin-right: 0.25em;color: #696969;}#sk-container-id-1 label.sk-toggleable__label-arrow:hover:before {color: black;}#sk-container-id-1 div.sk-estimator:hover label.sk-toggleable__label-arrow:before {color: black;}#sk-container-id-1 div.sk-toggleable__content {max-height: 0;max-width: 0;overflow: hidden;text-align: left;background-color: #f0f8ff;}#sk-container-id-1 div.sk-toggleable__content pre {margin: 0.2em;color: black;border-radius: 0.25em;background-color: #f0f8ff;}#sk-container-id-1 input.sk-toggleable__control:checked~div.sk-toggleable__content {max-height: 200px;max-width: 100%;overflow: auto;}#sk-container-id-1 input.sk-toggleable__control:checked~label.sk-toggleable__label-arrow:before {content: \"▾\";}#sk-container-id-1 div.sk-estimator input.sk-toggleable__control:checked~label.sk-toggleable__label {background-color: #d4ebff;}#sk-container-id-1 div.sk-label input.sk-toggleable__control:checked~label.sk-toggleable__label {background-color: #d4ebff;}#sk-container-id-1 input.sk-hidden--visually {border: 0;clip: rect(1px 1px 1px 1px);clip: rect(1px, 1px, 1px, 1px);height: 1px;margin: -1px;overflow: hidden;padding: 0;position: absolute;width: 1px;}#sk-container-id-1 div.sk-estimator {font-family: monospace;background-color: #f0f8ff;border: 1px dotted black;border-radius: 0.25em;box-sizing: border-box;margin-bottom: 0.5em;}#sk-container-id-1 div.sk-estimator:hover {background-color: #d4ebff;}#sk-container-id-1 div.sk-parallel-item::after {content: \"\";width: 100%;border-bottom: 1px solid gray;flex-grow: 1;}#sk-container-id-1 div.sk-label:hover label.sk-toggleable__label {background-color: #d4ebff;}#sk-container-id-1 div.sk-serial::before {content: \"\";position: absolute;border-left: 1px solid gray;box-sizing: border-box;top: 0;bottom: 0;left: 50%;z-index: 0;}#sk-container-id-1 div.sk-serial {display: flex;flex-direction: column;align-items: center;background-color: white;padding-right: 0.2em;padding-left: 0.2em;position: relative;}#sk-container-id-1 div.sk-item {position: relative;z-index: 1;}#sk-container-id-1 div.sk-parallel {display: flex;align-items: stretch;justify-content: center;background-color: white;position: relative;}#sk-container-id-1 div.sk-item::before, #sk-container-id-1 div.sk-parallel-item::before {content: \"\";position: absolute;border-left: 1px solid gray;box-sizing: border-box;top: 0;bottom: 0;left: 50%;z-index: -1;}#sk-container-id-1 div.sk-parallel-item {display: flex;flex-direction: column;z-index: 1;position: relative;background-color: white;}#sk-container-id-1 div.sk-parallel-item:first-child::after {align-self: flex-end;width: 50%;}#sk-container-id-1 div.sk-parallel-item:last-child::after {align-self: flex-start;width: 50%;}#sk-container-id-1 div.sk-parallel-item:only-child::after {width: 0;}#sk-container-id-1 div.sk-dashed-wrapped {border: 1px dashed gray;margin: 0 0.4em 0.5em 0.4em;box-sizing: border-box;padding-bottom: 0.4em;background-color: white;}#sk-container-id-1 div.sk-label label {font-family: monospace;font-weight: bold;display: inline-block;line-height: 1.2em;}#sk-container-id-1 div.sk-label-container {text-align: center;}#sk-container-id-1 div.sk-container {/* jupyter's `normalize.less` sets `[hidden] { display: none; }` but bootstrap.min.css set `[hidden] { display: none !important; }` so we also need the `!important` here to be able to override the default hidden behavior on the sphinx rendered scikit-learn.org. See: https://github.com/scikit-learn/scikit-learn/issues/21755 */display: inline-block !important;position: relative;}#sk-container-id-1 div.sk-text-repr-fallback {display: none;}</style><div id=\"sk-container-id-1\" class=\"sk-top-container\"><div class=\"sk-text-repr-fallback\"><pre>DecisionTreeClassifier()</pre><b>In a Jupyter environment, please rerun this cell to show the HTML representation or trust the notebook. <br />On GitHub, the HTML representation is unable to render, please try loading this page with nbviewer.org.</b></div><div class=\"sk-container\" hidden><div class=\"sk-item\"><div class=\"sk-estimator sk-toggleable\"><input class=\"sk-toggleable__control sk-hidden--visually\" id=\"sk-estimator-id-1\" type=\"checkbox\" checked><label for=\"sk-estimator-id-1\" class=\"sk-toggleable__label sk-toggleable__label-arrow\">DecisionTreeClassifier</label><div class=\"sk-toggleable__content\"><pre>DecisionTreeClassifier()</pre></div></div></div></div></div>"
      ],
      "text/plain": [
       "DecisionTreeClassifier()"
      ]
     },
     "execution_count": 5,
     "metadata": {},
     "output_type": "execute_result"
    }
   ],
   "source": [
    "# Cell 3: Train Base Decision Tree Model\n",
    "base_dt_model = DecisionTreeClassifier()\n",
    "base_dt_model.fit(penguin_X_train, penguin_y_train)"
   ]
  },
  {
   "cell_type": "code",
   "execution_count": 6,
   "metadata": {},
   "outputs": [],
   "source": [
    "# Cell 4: Predict and Evaluate Base Decision Tree Model\n",
    "penguin_y_pred_base_dt = base_dt_model.predict(penguin_X_test)\n",
    "\n",
    "conf_matrix_base_dt = confusion_matrix(penguin_y_test, penguin_y_pred_base_dt)\n",
    "precision_recall_f1_base_dt = precision_recall_fscore_support(penguin_y_test, penguin_y_pred_base_dt, average=None)\n",
    "accuracy_base_dt = accuracy_score(penguin_y_test, penguin_y_pred_base_dt)"
   ]
  },
  {
   "cell_type": "code",
   "execution_count": 7,
   "metadata": {},
   "outputs": [
    {
     "name": "stdout",
     "output_type": "stream",
     "text": [
      "Base Decision Tree Model\n",
      "Confusion Matrix:\n",
      " [[31  0  0]\n",
      " [ 0 13  0]\n",
      " [ 0  0 23]]\n",
      "Precision, Recall, and F1-Score for Each Class:\n",
      " (array([1., 1., 1.]), array([1., 1., 1.]), array([1., 1., 1.]), array([31, 13, 23], dtype=int64))\n",
      "Accuracy: 1.0\n",
      "Macro-average F1: 1.0\n",
      "Weighted-average F1: 1.0\n"
     ]
    }
   ],
   "source": [
    "# Cell 5: Display Results and Write to File\n",
    "# (A) Model Description\n",
    "model_description = \"Base Decision Tree Model\"\n",
    "print(model_description)\n",
    "with open('penguin-performance.txt', 'a') as file:\n",
    "    file.write(\"\\n\" + \"-\"*20 + \"\\n\" + model_description + \"\\n\")\n",
    "\n",
    "# (B) Confusion Matrix\n",
    "print(\"Confusion Matrix:\\n\", conf_matrix_base_dt)\n",
    "with open('penguin-performance.txt', 'a') as file:\n",
    "    file.write(\"\\n(B) Confusion Matrix:\\n\" + str(conf_matrix_base_dt) + \"\\n\")\n",
    "\n",
    "# (C) Precision, Recall, F1 for Each Class\n",
    "print(\"Precision, Recall, and F1-Score for Each Class:\\n\", precision_recall_f1_base_dt)\n",
    "with open('penguin-performance.txt', 'a') as file:\n",
    "    file.write(\"\\n(C) Precision, Recall, and F1-Score for Each Class:\\n\" + str(precision_recall_f1_base_dt) + \"\\n\")\n",
    "\n",
    "# (D) Accuracy, Macro-average F1, Weighted-average F1\n",
    "accuracy_base_dt = accuracy_score(penguin_y_test, penguin_y_pred_base_dt)\n",
    "macro_avg_f1_base_dt = f1_score(penguin_y_test, penguin_y_pred_base_dt, average='macro')\n",
    "weighted_avg_f1_base_dt = f1_score(penguin_y_test, penguin_y_pred_base_dt, average='weighted')\n",
    "\n",
    "print(\"Accuracy: {}\".format(accuracy_base_dt))\n",
    "print(\"Macro-average F1: {}\".format(macro_avg_f1_base_dt))\n",
    "print(\"Weighted-average F1: {}\".format(weighted_avg_f1_base_dt))\n",
    "\n",
    "with open('penguin-performance.txt', 'a') as file:\n",
    "    file.write(\"\\n(D) Accuracy: {}\\n\".format(accuracy_base_dt))\n",
    "    file.write(\"(D) Macro-average F1: {}\\n\".format(macro_avg_f1_base_dt))\n",
    "    file.write(\"(D) Weighted-average F1: {}\\n\".format(weighted_avg_f1_base_dt))\n"
   ]
  },
  {
   "cell_type": "code",
   "execution_count": 8,
   "metadata": {},
   "outputs": [
    {
     "data": {
      "text/html": [
       "<style>#sk-container-id-2 {color: black;}#sk-container-id-2 pre{padding: 0;}#sk-container-id-2 div.sk-toggleable {background-color: white;}#sk-container-id-2 label.sk-toggleable__label {cursor: pointer;display: block;width: 100%;margin-bottom: 0;padding: 0.3em;box-sizing: border-box;text-align: center;}#sk-container-id-2 label.sk-toggleable__label-arrow:before {content: \"▸\";float: left;margin-right: 0.25em;color: #696969;}#sk-container-id-2 label.sk-toggleable__label-arrow:hover:before {color: black;}#sk-container-id-2 div.sk-estimator:hover label.sk-toggleable__label-arrow:before {color: black;}#sk-container-id-2 div.sk-toggleable__content {max-height: 0;max-width: 0;overflow: hidden;text-align: left;background-color: #f0f8ff;}#sk-container-id-2 div.sk-toggleable__content pre {margin: 0.2em;color: black;border-radius: 0.25em;background-color: #f0f8ff;}#sk-container-id-2 input.sk-toggleable__control:checked~div.sk-toggleable__content {max-height: 200px;max-width: 100%;overflow: auto;}#sk-container-id-2 input.sk-toggleable__control:checked~label.sk-toggleable__label-arrow:before {content: \"▾\";}#sk-container-id-2 div.sk-estimator input.sk-toggleable__control:checked~label.sk-toggleable__label {background-color: #d4ebff;}#sk-container-id-2 div.sk-label input.sk-toggleable__control:checked~label.sk-toggleable__label {background-color: #d4ebff;}#sk-container-id-2 input.sk-hidden--visually {border: 0;clip: rect(1px 1px 1px 1px);clip: rect(1px, 1px, 1px, 1px);height: 1px;margin: -1px;overflow: hidden;padding: 0;position: absolute;width: 1px;}#sk-container-id-2 div.sk-estimator {font-family: monospace;background-color: #f0f8ff;border: 1px dotted black;border-radius: 0.25em;box-sizing: border-box;margin-bottom: 0.5em;}#sk-container-id-2 div.sk-estimator:hover {background-color: #d4ebff;}#sk-container-id-2 div.sk-parallel-item::after {content: \"\";width: 100%;border-bottom: 1px solid gray;flex-grow: 1;}#sk-container-id-2 div.sk-label:hover label.sk-toggleable__label {background-color: #d4ebff;}#sk-container-id-2 div.sk-serial::before {content: \"\";position: absolute;border-left: 1px solid gray;box-sizing: border-box;top: 0;bottom: 0;left: 50%;z-index: 0;}#sk-container-id-2 div.sk-serial {display: flex;flex-direction: column;align-items: center;background-color: white;padding-right: 0.2em;padding-left: 0.2em;position: relative;}#sk-container-id-2 div.sk-item {position: relative;z-index: 1;}#sk-container-id-2 div.sk-parallel {display: flex;align-items: stretch;justify-content: center;background-color: white;position: relative;}#sk-container-id-2 div.sk-item::before, #sk-container-id-2 div.sk-parallel-item::before {content: \"\";position: absolute;border-left: 1px solid gray;box-sizing: border-box;top: 0;bottom: 0;left: 50%;z-index: -1;}#sk-container-id-2 div.sk-parallel-item {display: flex;flex-direction: column;z-index: 1;position: relative;background-color: white;}#sk-container-id-2 div.sk-parallel-item:first-child::after {align-self: flex-end;width: 50%;}#sk-container-id-2 div.sk-parallel-item:last-child::after {align-self: flex-start;width: 50%;}#sk-container-id-2 div.sk-parallel-item:only-child::after {width: 0;}#sk-container-id-2 div.sk-dashed-wrapped {border: 1px dashed gray;margin: 0 0.4em 0.5em 0.4em;box-sizing: border-box;padding-bottom: 0.4em;background-color: white;}#sk-container-id-2 div.sk-label label {font-family: monospace;font-weight: bold;display: inline-block;line-height: 1.2em;}#sk-container-id-2 div.sk-label-container {text-align: center;}#sk-container-id-2 div.sk-container {/* jupyter's `normalize.less` sets `[hidden] { display: none; }` but bootstrap.min.css set `[hidden] { display: none !important; }` so we also need the `!important` here to be able to override the default hidden behavior on the sphinx rendered scikit-learn.org. See: https://github.com/scikit-learn/scikit-learn/issues/21755 */display: inline-block !important;position: relative;}#sk-container-id-2 div.sk-text-repr-fallback {display: none;}</style><div id=\"sk-container-id-2\" class=\"sk-top-container\"><div class=\"sk-text-repr-fallback\"><pre>DecisionTreeClassifier(max_depth=5, min_samples_split=5)</pre><b>In a Jupyter environment, please rerun this cell to show the HTML representation or trust the notebook. <br />On GitHub, the HTML representation is unable to render, please try loading this page with nbviewer.org.</b></div><div class=\"sk-container\" hidden><div class=\"sk-item\"><div class=\"sk-estimator sk-toggleable\"><input class=\"sk-toggleable__control sk-hidden--visually\" id=\"sk-estimator-id-2\" type=\"checkbox\" checked><label for=\"sk-estimator-id-2\" class=\"sk-toggleable__label sk-toggleable__label-arrow\">DecisionTreeClassifier</label><div class=\"sk-toggleable__content\"><pre>DecisionTreeClassifier(max_depth=5, min_samples_split=5)</pre></div></div></div></div></div>"
      ],
      "text/plain": [
       "DecisionTreeClassifier(max_depth=5, min_samples_split=5)"
      ]
     },
     "execution_count": 8,
     "metadata": {},
     "output_type": "execute_result"
    }
   ],
   "source": [
    "# part 5 for 4b\n",
    "# Define the hyperparameters for grid search\n",
    "param_grid = {\n",
    "    'criterion': ['gini', 'entropy'],\n",
    "    'max_depth': [None, 5, 10],\n",
    "    'min_samples_split': [2, 5, 10]\n",
    "}\n",
    "\n",
    "# Initialize the Decision Tree model\n",
    "top_dt_model = DecisionTreeClassifier()\n",
    "\n",
    "# Perform grid search to find the best hyperparameters\n",
    "grid_search = GridSearchCV(top_dt_model, param_grid, cv=5)\n",
    "grid_search.fit(penguin_X_train, penguin_y_train)\n",
    "\n",
    "# Get the best hyperparameters from the grid search\n",
    "best_params = grid_search.best_params_\n",
    "\n",
    "# Train the Top-DT model with the best hyperparameters\n",
    "top_dt_model = DecisionTreeClassifier(**best_params)\n",
    "top_dt_model.fit(penguin_X_train, penguin_y_train)\n"
   ]
  },
  {
   "cell_type": "code",
   "execution_count": 9,
   "metadata": {},
   "outputs": [
    {
     "name": "stdout",
     "output_type": "stream",
     "text": [
      "Top Decision Tree Model Evaluation:\n",
      "(B) Confusion Matrix:\n",
      "[[30  1  0]\n",
      " [ 0 13  0]\n",
      " [ 0  0 23]]\n",
      "\n",
      "(C) Precision, Recall, and F1-Score for Each Class:\n",
      "Precision (Class 0 - Adelie): 1.0\n",
      "Recall (Class 0 - Adelie): 0.967741935483871\n",
      "F1-Score (Class 0 - Adelie): 0.9836065573770492\n",
      "\n",
      "(D) Accuracy: 0.9850746268656716\n",
      "(D) Macro-average F1: 0.9821898401133374\n",
      "(D) Weighted-average F1: 0.9852286835404036\n"
     ]
    }
   ],
   "source": [
    "# Predict on the test set\n",
    "penguin_y_pred_top_dt = top_dt_model.predict(penguin_X_test)\n",
    "\n",
    "# Evaluate the model\n",
    "conf_matrix_top_dt = confusion_matrix(penguin_y_test, penguin_y_pred_top_dt)\n",
    "precision_recall_f1_top_dt = precision_recall_fscore_support(penguin_y_test, penguin_y_pred_top_dt, average=None)\n",
    "accuracy_top_dt = accuracy_score(penguin_y_test, penguin_y_pred_top_dt)\n",
    "macro_avg_f1_top_dt = f1_score(penguin_y_test, penguin_y_pred_top_dt, average='macro')\n",
    "weighted_avg_f1_top_dt = f1_score(penguin_y_test, penguin_y_pred_top_dt, average='weighted')\n",
    "\n",
    "# Display the results\n",
    "print(\"Top Decision Tree Model Evaluation:\")\n",
    "print(\"(B) Confusion Matrix:\")\n",
    "print(conf_matrix_top_dt)\n",
    "\n",
    "print(\"\\n(C) Precision, Recall, and F1-Score for Each Class:\")\n",
    "precision_top_dt, recall_top_dt, f1_top_dt, support_top_dt = precision_recall_f1_top_dt\n",
    "print(\"Precision (Class 0 - Adelie):\", precision_top_dt[0])\n",
    "print(\"Recall (Class 0 - Adelie):\", recall_top_dt[0])\n",
    "print(\"F1-Score (Class 0 - Adelie):\", f1_top_dt[0])\n",
    "\n",
    "print(\"\\n(D) Accuracy:\", accuracy_top_dt)\n",
    "print(\"(D) Macro-average F1:\", macro_avg_f1_top_dt)\n",
    "print(\"(D) Weighted-average F1:\", weighted_avg_f1_top_dt)\n",
    "\n",
    "# Append results to the penguin-performance.txt file\n",
    "with open('penguin-performance.txt', 'a') as file:\n",
    "    file.write(\"--------------------\\n\")\n",
    "    file.write(\"Top Decision Tree Model\\n\\n\")\n",
    "    file.write(\"(B) Confusion Matrix:\\n\")\n",
    "    file.write(str(conf_matrix_top_dt) + \"\\n\\n\")\n",
    "\n",
    "    file.write(\"(C) Precision, Recall, and F1-Score for Each Class:\\n\")\n",
    "    file.write(\"Precision (Class 0 - Adelie): {}\\n\".format(precision_top_dt[0]))\n",
    "    file.write(\"Recall (Class 0 - Adelie): {}\\n\".format(recall_top_dt[0]))\n",
    "    file.write(\"F1-Score (Class 0 - Adelie): {}\\n\\n\".format(f1_top_dt[0]))\n",
    "\n",
    "    file.write(\"(D) Accuracy: {}\\n\".format(accuracy_top_dt))\n",
    "    file.write(\"(D) Macro-average F1: {}\\n\".format(macro_avg_f1_top_dt))\n",
    "    file.write(\"(D) Weighted-average F1: {}\\n\".format(weighted_avg_f1_top_dt))\n"
   ]
  },
  {
   "cell_type": "code",
   "execution_count": 11,
   "metadata": {},
   "outputs": [
    {
     "name": "stdout",
     "output_type": "stream",
     "text": [
      "--------------------\n",
      "Base MLP Model\n",
      "\n",
      "(A) Model Description:\n",
      "Base Multi-Layered Perceptron with 2 hidden layers of 100+100 neurons, sigmoid/logistic as activation function, stochastic gradient descent, and default values for the rest of the parameters.\n"
     ]
    }
   ],
   "source": [
    "# part 5 for penguin 4c\n",
    "# Base MLP Model\n",
    "print(\"--------------------\")\n",
    "print(\"Base MLP Model\")\n",
    "\n",
    "# (A) Model Description\n",
    "print(\"\\n(A) Model Description:\")\n",
    "print(\"Base Multi-Layered Perceptron with 2 hidden layers of 100+100 neurons, sigmoid/logistic as activation function, \"\n",
    "      \"stochastic gradient descent, and default values for the rest of the parameters.\")\n",
    "\n",
    "# (B) Confusion Matrix, (C) Precision, Recall, F1-Score, (D) Accuracy, Macro-average F1, Weighted-average F1\n",
    "base_mlp_model = MLPClassifier(hidden_layer_sizes=(100, 100), activation='logistic', solver='sgd', random_state=42)\n",
    "\n",
    "# Train the model\n",
    "base_mlp_model.fit(penguin_X_train, penguin_y_train)\n",
    "\n",
    "# Predict on the test set\n",
    "penguin_y_pred_base_mlp = base_mlp_model.predict(penguin_X_test)\n"
   ]
  },
  {
   "cell_type": "code",
   "execution_count": 13,
   "metadata": {},
   "outputs": [],
   "source": [
    "# Evaluate the model\n",
    "conf_matrix_base_mlp = confusion_matrix(penguin_y_test, penguin_y_pred_base_mlp)\n",
    "# Set zero_division parameter to 'warn' or 1\n",
    "precision_recall_f1_base_mlp = precision_recall_fscore_support(\n",
    "    penguin_y_test, penguin_y_pred_base_mlp, average=None, zero_division=1\n",
    ")\n",
    "accuracy_base_mlp = accuracy_score(penguin_y_test, penguin_y_pred_base_mlp)\n",
    "macro_avg_f1_base_mlp = f1_score(penguin_y_test, penguin_y_pred_base_mlp, average='macro')\n",
    "weighted_avg_f1_base_mlp = f1_score(penguin_y_test, penguin_y_pred_base_mlp, average='weighted')"
   ]
  },
  {
   "cell_type": "code",
   "execution_count": 14,
   "metadata": {},
   "outputs": [
    {
     "name": "stdout",
     "output_type": "stream",
     "text": [
      "\n",
      "(B) Confusion Matrix:\n",
      "[[31  0  0]\n",
      " [13  0  0]\n",
      " [23  0  0]]\n",
      "\n",
      "(C) Precision, Recall, and F1-Score for Each Class:\n",
      "(array([0.46268657, 1.        , 1.        ]), array([1., 0., 0.]), array([0.63265306, 0.        , 0.        ]), array([31, 13, 23], dtype=int64))\n",
      "\n",
      "(D) Accuracy: 0.4626865671641791\n",
      "(D) Macro-average F1: 0.2108843537414966\n",
      "(D) Weighted-average F1: 0.29272007310386844\n",
      "Results written to penguin-performance.txt\n"
     ]
    }
   ],
   "source": [
    "# Display the results\n",
    "print(\"\\n(B) Confusion Matrix:\")\n",
    "print(conf_matrix_base_mlp)\n",
    "\n",
    "print(\"\\n(C) Precision, Recall, and F1-Score for Each Class:\")\n",
    "print(precision_recall_f1_base_mlp)\n",
    "\n",
    "print(\"\\n(D) Accuracy:\", accuracy_base_mlp)\n",
    "print(\"(D) Macro-average F1:\", macro_avg_f1_base_mlp)\n",
    "print(\"(D) Weighted-average F1:\", weighted_avg_f1_base_mlp)\n",
    "\n",
    "# Define the file path\n",
    "penguin_performance_file = \"penguin-performance.txt\"\n",
    "\n",
    "# Open the file in append mode\n",
    "with open(penguin_performance_file, \"a\") as file:\n",
    "    # (A) Model Description\n",
    "    file.write(\"--------------------\\n\")\n",
    "    file.write(\"Base MLP Model\\n\\n\")\n",
    "    file.write(\"(A) Model Description:\\n\")\n",
    "    file.write(\"Base Multi-Layered Perceptron with 2 hidden layers of 100+100 neurons, sigmoid/logistic as activation function, \"\n",
    "               \"stochastic gradient descent, and default values for the rest of the parameters.\\n\")\n",
    "\n",
    "    # (B) Confusion Matrix\n",
    "    file.write(\"\\n(B) Confusion Matrix:\\n\")\n",
    "    file.write(str(conf_matrix_base_mlp) + \"\\n\")\n",
    "\n",
    "    # (C) Precision, Recall, and F1-Score for Each Class\n",
    "    file.write(\"\\n(C) Precision, Recall, and F1-Score for Each Class:\\n\")\n",
    "    file.write(str(precision_recall_f1_base_mlp) + \"\\n\")\n",
    "\n",
    "    # (D) Accuracy, Macro-average F1, Weighted-average F1\n",
    "    file.write(\"\\n(D) Accuracy: {}\\n\".format(accuracy_base_mlp))\n",
    "    file.write(\"(D) Macro-average F1: {}\\n\".format(macro_avg_f1_base_mlp))\n",
    "    file.write(\"(D) Weighted-average F1: {}\\n\".format(weighted_avg_f1_base_mlp))\n",
    "\n",
    "# Display a message\n",
    "print(\"Results written to\", penguin_performance_file)\n"
   ]
  },
  {
   "cell_type": "code",
   "execution_count": 16,
   "metadata": {},
   "outputs": [
    {
     "ename": "NameError",
     "evalue": "name 'penguin_X_train_scaled' is not defined",
     "output_type": "error",
     "traceback": [
      "\u001b[1;31m---------------------------------------------------------------------------\u001b[0m",
      "\u001b[1;31mNameError\u001b[0m                                 Traceback (most recent call last)",
      "\u001b[1;32mc:\\Users\\ibrah\\OneDrive\\Desktop\\assignment1\\COMP472-Assignment1\\part5_penguin.ipynb Cell 13\u001b[0m line \u001b[0;36m1\n\u001b[0;32m     <a href='vscode-notebook-cell:/c%3A/Users/ibrah/OneDrive/Desktop/assignment1/COMP472-Assignment1/part5_penguin.ipynb#X26sZmlsZQ%3D%3D?line=10'>11</a>\u001b[0m \u001b[39m# Perform grid search to find the best hyperparameters\u001b[39;00m\n\u001b[0;32m     <a href='vscode-notebook-cell:/c%3A/Users/ibrah/OneDrive/Desktop/assignment1/COMP472-Assignment1/part5_penguin.ipynb#X26sZmlsZQ%3D%3D?line=11'>12</a>\u001b[0m grid_search_mlp \u001b[39m=\u001b[39m GridSearchCV(top_mlp_model, param_grid_mlp, cv\u001b[39m=\u001b[39m\u001b[39m5\u001b[39m)\n\u001b[1;32m---> <a href='vscode-notebook-cell:/c%3A/Users/ibrah/OneDrive/Desktop/assignment1/COMP472-Assignment1/part5_penguin.ipynb#X26sZmlsZQ%3D%3D?line=12'>13</a>\u001b[0m grid_search_mlp\u001b[39m.\u001b[39mfit(penguin_X_train_scaled, penguin_y_train)\n",
      "\u001b[1;31mNameError\u001b[0m: name 'penguin_X_train_scaled' is not defined"
     ]
    }
   ],
   "source": [
    "# Initialize the Top-MLP model\n",
    "top_mlp_model = MLPClassifier()\n",
    "\n",
    "# Define the hyperparameter grid\n",
    "param_grid_mlp = {\n",
    "    'activation': ['sigmoid', 'tanh', 'relu'],\n",
    "    'hidden_layer_sizes': [(30, 50), (10, 10, 10)],\n",
    "    'solver': ['adam', 'sgd'],\n",
    "}\n",
    "\n",
    "# Perform grid search to find the best hyperparameters\n",
    "grid_search_mlp = GridSearchCV(top_mlp_model, param_grid_mlp, cv=5)\n",
    "grid_search_mlp.fit(penguin_X_train_scaled, penguin_y_train)"
   ]
  },
  {
   "cell_type": "code",
   "execution_count": null,
   "metadata": {},
   "outputs": [],
   "source": [
    "# Get the best hyperparameters from the grid search\n",
    "best_params_mlp = grid_search_mlp.best_params_\n",
    "\n",
    "# Predict on the test set using the best model\n",
    "penguin_y_pred_top_mlp = grid_search_mlp.predict(penguin_X_test_scaled)\n",
    "\n",
    "# Evaluate the Top-MLP model\n",
    "conf_matrix_top_mlp = confusion_matrix(penguin_y_test, penguin_y_pred_top_mlp)\n",
    "precision_recall_f1_top_mlp = precision_recall_fscore_support(\n",
    "    penguin_y_test, penguin_y_pred_top_mlp, average=None\n",
    ")\n",
    "accuracy_top_mlp = accuracy_score(penguin_y_test, penguin_y_pred_top_mlp)"
   ]
  },
  {
   "cell_type": "code",
   "execution_count": null,
   "metadata": {},
   "outputs": [],
   "source": [
    "# Display the results\n",
    "print(\"--------------------\")\n",
    "print(\"Top Multi-Layered Perceptron Model\\n\")\n",
    "print(\"(A) Best Hyperparameters:\", best_params_mlp)\n",
    "print(\"\\n(B) Confusion Matrix:\\n\", conf_matrix_top_mlp)\n",
    "print(\"\\n(C) Precision, Recall, and F1-Score for Each Class:\\n\", precision_recall_f1_top_mlp)\n",
    "print(\"(D) Accuracy:\", accuracy_top_mlp)\n",
    "\n",
    "# Write the results to the performance file\n",
    "with open(\"penguin-performance.txt\", \"a\") as file:\n",
    "    file.write(\"--------------------\\n\")\n",
    "    file.write(\"Top Multi-Layered Perceptron Model\\n\\n\")\n",
    "    file.write(\"(A) Best Hyperparameters: {}\\n\".format(best_params_mlp))\n",
    "    file.write(\"\\n(B) Confusion Matrix:\\n{}\\n\".format(conf_matrix_top_mlp))\n",
    "    file.write(\"\\n(C) Precision, Recall, and F1-Score for Each Class:\\n{}\\n\".format(precision_recall_f1_top_mlp))\n",
    "    file.write(\"(D) Accuracy: {}\\n\".format(accuracy_top_mlp))"
   ]
  }
 ],
 "metadata": {
  "kernelspec": {
   "display_name": "Python 3",
   "language": "python",
   "name": "python3"
  },
  "language_info": {
   "codemirror_mode": {
    "name": "ipython",
    "version": 3
   },
   "file_extension": ".py",
   "mimetype": "text/x-python",
   "name": "python",
   "nbconvert_exporter": "python",
   "pygments_lexer": "ipython3",
   "version": "3.11.5"
  }
 },
 "nbformat": 4,
 "nbformat_minor": 2
}
